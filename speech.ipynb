{
 "cells": [
  {
   "cell_type": "code",
   "execution_count": 10,
   "metadata": {},
   "outputs": [],
   "source": [
    "import datasets\n",
    "\n",
    "import numpy as np\n",
    "import torch\n",
    "import torchaudio\n",
    "import torchaudio.transforms as T\n",
    "import pickle\n",
    "import librosa\n",
    "import torch\n",
    "import torchgmm.bayes as bayes\n",
    "import os\n",
    "from utils import group_samples_by_speaker, create_balanced_duration_dataset_from_groups,compute_mfcc, save_dataset_with_mfcc, load_dataset_with_mfcc\n",
    "\n",
    "import numpy as np\n",
    "import torch\n",
    "import matplotlib.pyplot as plt\n",
    "from sklearn.manifold import MDS\n",
    "from scipy.spatial.distance import pdist, squareform\n"
   ]
  },
  {
   "cell_type": "markdown",
   "metadata": {},
   "source": [
    "### download dataset"
   ]
  },
  {
   "cell_type": "code",
   "execution_count": null,
   "metadata": {},
   "outputs": [],
   "source": [
    "\"\"\"\n",
    "import aiohttp\n",
    "dataset = datasets.load_dataset(\"librispeech_asr\", \n",
    "                                \"clean\", \n",
    "                                split=\"train.100\",\n",
    "    storage_options={'client_kwargs': {'timeout': aiohttp.ClientTimeout(total=3600)}}\n",
    ")\n",
    "dataset.save_to_disk(\"./data/librispeech_hf\")\"\"\""
   ]
  },
  {
   "cell_type": "markdown",
   "metadata": {},
   "source": [
    "### load and create subsets"
   ]
  },
  {
   "cell_type": "code",
   "execution_count": null,
   "metadata": {},
   "outputs": [],
   "source": [
    "dataset = datasets.load_from_disk(\"./data/librispeech_hf\")"
   ]
  },
  {
   "cell_type": "code",
   "execution_count": null,
   "metadata": {},
   "outputs": [],
   "source": [
    "speaker_groups = group_samples_by_speaker(dataset)"
   ]
  },
  {
   "cell_type": "code",
   "execution_count": null,
   "metadata": {},
   "outputs": [],
   "source": [
    "# Create balanced datasets of different durations:\n",
    "\n",
    "hdataset = create_balanced_duration_dataset_from_groups(speaker_groups, target_duration=10*3600)"
   ]
  },
  {
   "cell_type": "markdown",
   "metadata": {},
   "source": [
    "save subset"
   ]
  },
  {
   "cell_type": "code",
   "execution_count": null,
   "metadata": {},
   "outputs": [],
   "source": [
    "save_dataset_with_mfcc(hdataset, \"./mfcc_datasets/h_mfcc\")"
   ]
  },
  {
   "cell_type": "code",
   "execution_count": null,
   "metadata": {},
   "outputs": [],
   "source": [
    "mfcc_dataset = load_dataset_with_mfcc(\"./mfcc_datasets/10h_mfcc\")"
   ]
  },
  {
   "cell_type": "code",
   "execution_count": null,
   "metadata": {},
   "outputs": [],
   "source": [
    "\n",
    "\n",
    "# --- Step 1: Flatten MFCC frames from the dataset ---\n",
    "# Each sample in mfcc_dataset has a key \"mfcc\" (a list of lists where each inner list is one MFCC frame)\n",
    "all_mfcc_frames = []\n",
    "\n",
    "for sample in mfcc_dataset:\n",
    "    # Convert the mfcc list to a numpy array (shape: n_frames x n_mfcc)\n",
    "    mfcc_frames = np.array(sample[\"mfcc\"])\n",
    "    all_mfcc_frames.append(mfcc_frames)\n",
    "\n",
    "# Concatenate all frames along the time axis.\n",
    "# This yields an array of shape (total_n_frames, n_mfcc)\n",
    "all_mfcc = np.vstack(all_mfcc_frames)\n",
    "print(\"Total MFCC frames:\", all_mfcc.shape[0])\n",
    "print(\"MFCC feature dimension:\", all_mfcc.shape[1])\n",
    "\n",
    "# Convert the NumPy array to a PyTorch tensor.\n",
    "mfcc_tensor = torch.tensor(all_mfcc, dtype=torch.float32)\n"
   ]
  },
  {
   "cell_type": "code",
   "execution_count": null,
   "metadata": {},
   "outputs": [],
   "source": [
    "torch.save(mfcc_tensor, './mfcc_tensors/10h_mfcc_tensor.pt')"
   ]
  },
  {
   "cell_type": "markdown",
   "metadata": {},
   "source": [
    "### train "
   ]
  },
  {
   "cell_type": "code",
   "execution_count": 5,
   "metadata": {},
   "outputs": [
    {
     "name": "stdout",
     "output_type": "stream",
     "text": [
      "Total MFCC frames: 3602062\n"
     ]
    }
   ],
   "source": [
    "#load mfcc tensor\n",
    "mfcc_tensor = torch.load('./data/mfcc_tensors/10h_mfcc_tensor.pt')\n",
    "print(\"Total MFCC frames:\", mfcc_tensor.shape[0])"
   ]
  },
  {
   "cell_type": "code",
   "execution_count": null,
   "metadata": {},
   "outputs": [],
   "source": [
    "# Create the GMM model with batch training parameters.\n",
    "\n",
    "\n",
    "nb_clusters = 128  \n",
    "gmm = bayes.GaussianMixture(\n",
    "    num_components=nb_clusters,\n",
    "    batch_size=1024,  # Process the data in batches of 1024 samples\n",
    "    trainer_params={\n",
    "        \"max_epochs\": 30,       \n",
    "        \"accelerator\": \"cpu\",   # Force CPU training (MPS on macbook is not supported)\n",
    "    }\n",
    ")"
   ]
  },
  {
   "cell_type": "code",
   "execution_count": null,
   "metadata": {},
   "outputs": [],
   "source": [
    "#fit model\n",
    "gmm = gmm.fit(mfcc_tensor)"
   ]
  },
  {
   "cell_type": "code",
   "execution_count": null,
   "metadata": {},
   "outputs": [],
   "source": [
    "#save model\n",
    "\n",
    "save_path = \"./data/trained_models/10h_trained_gmm\"\n",
    "gmm.save(save_path)\n",
    "print(f\"GMM model saved to {save_path}\")\n"
   ]
  },
  {
   "cell_type": "code",
   "execution_count": 8,
   "metadata": {},
   "outputs": [
    {
     "name": "stderr",
     "output_type": "stream",
     "text": [
      "GPU available: True (mps), used: False\n",
      "TPU available: False, using: 0 TPU cores\n",
      "HPU available: False, using: 0 HPUs\n"
     ]
    },
    {
     "name": "stdout",
     "output_type": "stream",
     "text": [
      "Testing DataLoader 0: 100%|██████████| 3518/3518 [00:06<00:00, 554.90it/s]\n",
      "Average negative log-likelihood: 15.44\n",
      "Convergence status: True\n",
      "Number of EM iterations: 25\n",
      "Last recorded average NLL: 15.440840721130371\n"
     ]
    }
   ],
   "source": [
    "\n",
    "save_path = \"./data/trained_models/10h_trained_gmm\"\n",
    "\n",
    "# 8. Later, you can load the model back using:\n",
    "gmm = bayes.GaussianMixture.load(save_path)\n",
    "\n",
    "# 3. Compute the average negative log-likelihood (NLL) for the data.\n",
    "avg_nll = gmm.score(mfcc_tensor)\n",
    "print(f\"Average negative log-likelihood: {avg_nll:.2f}\")\n",
    "\n",
    "\n",
    "\n",
    "# 6. Inspect some of the fitted attributes:\n",
    "#    (Note: The names of attributes may depend on your version of torchgmm.)\n",
    "\n",
    "print(\"Convergence status:\", gmm.converged_)\n",
    "print(\"Number of EM iterations:\", gmm.num_iter_)\n",
    "print(\"Last recorded average NLL:\", gmm.nll_)"
   ]
  },
  {
   "cell_type": "code",
   "execution_count": null,
   "metadata": {},
   "outputs": [
    {
     "name": "stderr",
     "output_type": "stream",
     "text": [
      "GPU available: True (mps), used: False\n",
      "TPU available: False, using: 0 TPU cores\n",
      "HPU available: False, using: 0 HPUs\n",
      "/Users/julienf/.pyenv/versions/3.11.11/envs/ml/lib/python3.11/site-packages/pytorch_lightning/trainer/setup.py:177: GPU available but not used. You can set it by doing `Trainer(accelerator='gpu')`.\n"
     ]
    },
    {
     "name": "stdout",
     "output_type": "stream",
     "text": [
      "Predicting DataLoader 0: 100%|██████████| 3518/3518 [00:03<00:00, 888.95it/s]\n"
     ]
    },
    {
     "name": "stderr",
     "output_type": "stream",
     "text": [
      "GPU available: True (mps), used: False\n",
      "TPU available: False, using: 0 TPU cores\n",
      "HPU available: False, using: 0 HPUs\n"
     ]
    },
    {
     "name": "stdout",
     "output_type": "stream",
     "text": [
      "Predicted cluster assignments (first 10 datapoints):\n",
      "tensor([109, 109, 109, 111,  55, 109, 111, 109,  30, 109])\n",
      "Predicting DataLoader 0: 100%|██████████| 3518/3518 [00:04<00:00, 842.47it/s]\n"
     ]
    },
    {
     "name": "stderr",
     "output_type": "stream",
     "text": [
      "GPU available: True (mps), used: False\n",
      "TPU available: False, using: 0 TPU cores\n",
      "HPU available: False, using: 0 HPUs\n"
     ]
    },
    {
     "name": "stdout",
     "output_type": "stream",
     "text": [
      "Responsibilities for the first 5 datapoints:\n",
      "tensor([[8.3531e-05, 7.4373e-25, 1.3796e-06, 6.4606e-13, 4.4417e-05, 4.2597e-20,\n",
      "         1.5270e-08, 3.8381e-10, 2.9900e-13, 2.5768e-13, 7.2259e-03, 1.3631e-35,\n",
      "         3.1787e-10, 2.5856e-27, 5.0516e-15, 5.8827e-09, 1.4956e-04, 1.5884e-05,\n",
      "         3.2466e-29, 2.7198e-21, 9.1917e-13, 3.0638e-03, 3.5172e-17, 3.8881e-22,\n",
      "         7.3561e-27, 1.4112e-04, 2.7238e-04, 1.8005e-08, 5.7461e-35, 1.8694e-06,\n",
      "         7.8853e-02, 8.2977e-27, 2.8644e-09, 1.3699e-40, 8.4881e-06, 2.0093e-03,\n",
      "         6.7132e-28, 1.4163e-04, 3.4128e-15, 1.3626e-28, 4.8137e-32, 2.0405e-28,\n",
      "         1.9306e-05, 5.5196e-11, 6.6970e-08, 4.4558e-10, 1.0324e-20, 1.0887e-25,\n",
      "         1.9489e-21, 1.1412e-06, 3.2950e-26, 2.8202e-07, 1.6455e-18, 8.8724e-08,\n",
      "         3.4037e-20, 7.1883e-02, 3.1835e-20, 1.4323e-27, 8.5881e-13, 3.2833e-23,\n",
      "         1.8748e-36, 2.9798e-09, 8.8003e-14, 8.8659e-11, 1.3561e-10, 2.4299e-09,\n",
      "         7.1185e-25, 8.7284e-14, 1.5983e-07, 3.6775e-14, 2.3721e-36, 8.2149e-21,\n",
      "         1.7314e-10, 9.7473e-25, 3.7431e-14, 6.7167e-20, 4.8762e-14, 5.8361e-37,\n",
      "         2.4824e-21, 1.6323e-03, 2.3281e-30, 4.1466e-21, 2.0188e-08, 2.8721e-20,\n",
      "         1.6549e-35, 6.6262e-06, 1.6791e-08, 1.2958e-10, 5.1551e-05, 1.5629e-02,\n",
      "         3.5714e-21, 1.1666e-09, 2.3318e-27, 2.1331e-29, 9.6571e-14, 7.1756e-12,\n",
      "         2.0392e-11, 9.6448e-03, 6.7882e-10, 2.8469e-07, 5.4525e-30, 1.7068e-13,\n",
      "         3.6061e-17, 1.0159e-31, 0.0000e+00, 1.0633e-23, 2.9132e-13, 9.1879e-21,\n",
      "         5.1405e-07, 7.8148e-01, 7.0943e-25, 1.3316e-02, 3.6144e-06, 1.1994e-02,\n",
      "         3.0130e-18, 4.5708e-15, 6.6882e-37, 7.4153e-32, 3.5932e-21, 3.4199e-35,\n",
      "         9.1410e-18, 1.8511e-42, 3.6593e-18, 1.4422e-22, 2.3225e-03, 5.7863e-06,\n",
      "         5.1208e-20, 8.7691e-24],\n",
      "        [3.5740e-05, 1.4433e-22, 3.5539e-07, 1.7842e-11, 3.4209e-05, 5.2385e-17,\n",
      "         1.7578e-07, 2.1098e-09, 5.4972e-11, 4.9188e-15, 1.3601e-02, 1.2589e-30,\n",
      "         2.9754e-08, 2.0968e-23, 1.2912e-12, 1.6106e-04, 5.0625e-05, 1.1487e-05,\n",
      "         1.0748e-24, 1.4998e-17, 1.1925e-10, 4.1324e-04, 1.1958e-14, 3.4729e-18,\n",
      "         1.5530e-24, 1.9570e-07, 1.8965e-05, 1.1348e-06, 1.9744e-31, 8.1232e-07,\n",
      "         4.3990e-03, 5.7244e-23, 6.7655e-10, 1.0333e-35, 1.1752e-05, 2.4146e-03,\n",
      "         8.1078e-24, 2.5274e-03, 1.8040e-10, 2.4365e-26, 3.3600e-26, 1.3116e-24,\n",
      "         1.4747e-05, 1.8485e-10, 9.4460e-09, 4.3124e-10, 1.9700e-17, 7.2689e-23,\n",
      "         3.0399e-19, 3.4687e-07, 1.4323e-22, 2.0977e-04, 9.3261e-16, 9.6575e-07,\n",
      "         9.4032e-18, 1.8629e-02, 2.4180e-16, 1.7804e-24, 1.3962e-09, 2.5296e-19,\n",
      "         3.0729e-31, 1.2822e-08, 7.0090e-16, 4.2121e-09, 3.2544e-10, 6.6006e-11,\n",
      "         4.8932e-22, 9.1606e-15, 2.2434e-05, 1.9457e-12, 9.6082e-32, 1.6317e-17,\n",
      "         6.4561e-11, 5.1322e-21, 7.8611e-14, 3.9723e-17, 1.1080e-10, 2.8003e-32,\n",
      "         5.8990e-18, 1.1235e-05, 1.4828e-26, 3.2915e-19, 4.7712e-07, 3.4260e-17,\n",
      "         9.8552e-31, 6.2073e-06, 4.7292e-09, 7.0650e-12, 5.0321e-06, 9.7131e-03,\n",
      "         3.2022e-19, 2.3642e-09, 2.4476e-24, 1.1174e-24, 4.9493e-11, 3.7416e-11,\n",
      "         2.4791e-11, 6.5992e-03, 2.6255e-08, 2.9523e-06, 2.3418e-26, 1.0283e-11,\n",
      "         6.0855e-15, 1.7712e-26, 9.0944e-43, 4.5214e-20, 1.3588e-10, 1.2996e-17,\n",
      "         3.5315e-07, 8.9584e-01, 2.1641e-21, 3.7942e-02, 1.5767e-06, 7.2995e-03,\n",
      "         2.1556e-15, 2.6211e-13, 8.3084e-31, 1.0223e-26, 1.2647e-17, 1.7696e-30,\n",
      "         1.1354e-17, 1.2889e-36, 1.7455e-18, 1.0480e-19, 1.8857e-05, 2.5531e-06,\n",
      "         2.4674e-17, 2.9171e-21],\n",
      "        [8.1183e-06, 2.8063e-23, 6.3111e-05, 1.3345e-13, 5.0080e-04, 1.4830e-19,\n",
      "         4.7850e-09, 2.2934e-11, 9.9091e-12, 1.5418e-13, 1.1681e-04, 4.1146e-33,\n",
      "         2.4201e-09, 2.1399e-24, 3.4614e-15, 1.6340e-02, 7.0322e-06, 2.2055e-05,\n",
      "         1.4664e-25, 1.3906e-19, 9.3535e-14, 3.2519e-04, 1.1199e-15, 1.3316e-20,\n",
      "         4.1863e-25, 7.4349e-05, 6.8239e-04, 9.0535e-09, 4.2679e-33, 3.9313e-07,\n",
      "         1.0407e-01, 1.2474e-25, 3.5814e-10, 9.2213e-37, 5.5713e-07, 8.2916e-04,\n",
      "         5.6490e-25, 7.6346e-04, 2.7491e-08, 5.2323e-28, 9.4904e-30, 2.5735e-27,\n",
      "         1.3614e-06, 2.7338e-10, 1.3626e-07, 1.6225e-10, 5.7580e-21, 1.1592e-25,\n",
      "         1.8722e-22, 1.3438e-07, 1.0340e-23, 1.4120e-04, 1.3471e-17, 2.6385e-07,\n",
      "         4.9723e-21, 1.0940e-01, 6.5740e-19, 3.8517e-27, 1.7150e-12, 1.8593e-20,\n",
      "         1.4037e-32, 2.7309e-09, 3.4647e-14, 9.5125e-11, 2.3459e-09, 5.3319e-10,\n",
      "         1.1620e-23, 1.3148e-13, 1.9409e-07, 1.1798e-14, 9.0314e-35, 1.6532e-19,\n",
      "         5.4296e-11, 2.2493e-21, 1.0982e-13, 1.2637e-18, 5.0810e-13, 8.3848e-36,\n",
      "         9.3748e-21, 1.1972e-05, 4.6569e-28, 2.5575e-20, 3.0216e-08, 2.7292e-20,\n",
      "         9.9713e-32, 2.4570e-05, 6.0388e-09, 2.2022e-11, 4.7014e-07, 2.0801e-03,\n",
      "         1.5877e-21, 4.7857e-10, 1.6017e-26, 4.8548e-28, 6.5377e-13, 7.7494e-12,\n",
      "         4.8761e-12, 3.1367e-03, 4.6117e-10, 3.8043e-04, 3.0431e-28, 6.9708e-14,\n",
      "         5.0131e-16, 5.2498e-28, 9.8091e-45, 2.8221e-21, 3.1309e-12, 3.2875e-19,\n",
      "         1.6906e-03, 4.5119e-01, 2.2053e-23, 3.0706e-01, 1.3481e-06, 9.9249e-04,\n",
      "         1.2004e-17, 1.1831e-06, 1.6772e-34, 1.2000e-28, 8.0149e-21, 3.1196e-31,\n",
      "         1.9954e-17, 8.3562e-38, 1.6341e-17, 1.3299e-20, 8.5174e-05, 2.0627e-06,\n",
      "         7.0665e-20, 1.9128e-23],\n",
      "        [2.8072e-05, 9.2931e-24, 4.1331e-05, 6.0823e-14, 4.9242e-04, 1.1080e-19,\n",
      "         5.5637e-09, 1.9918e-11, 4.0713e-12, 3.7159e-13, 1.4823e-04, 5.0533e-33,\n",
      "         4.8734e-10, 1.2587e-24, 4.6647e-15, 1.1914e-03, 1.9223e-05, 4.5919e-05,\n",
      "         1.0014e-25, 1.0345e-19, 9.5385e-14, 4.4041e-04, 9.5944e-16, 1.8355e-20,\n",
      "         1.1414e-25, 3.1993e-04, 1.5372e-03, 3.9747e-09, 1.2045e-32, 9.5299e-07,\n",
      "         2.2759e-01, 3.6365e-25, 1.7885e-10, 9.1967e-37, 4.9853e-07, 4.1542e-04,\n",
      "         2.8541e-25, 1.4880e-04, 3.6014e-09, 6.5712e-28, 2.4056e-29, 1.8735e-26,\n",
      "         6.4923e-07, 9.4972e-10, 4.7522e-07, 8.2175e-11, 2.4073e-20, 2.1937e-25,\n",
      "         2.4758e-22, 1.5323e-07, 1.6669e-23, 3.3759e-05, 2.5895e-17, 1.8030e-07,\n",
      "         6.6957e-21, 5.3688e-02, 3.9506e-19, 9.0466e-27, 8.6558e-13, 1.8110e-20,\n",
      "         2.9917e-32, 2.3379e-09, 3.1221e-14, 3.2539e-11, 7.9410e-09, 2.4148e-09,\n",
      "         1.4651e-23, 3.8501e-13, 2.9468e-08, 1.7657e-14, 3.9280e-34, 1.1858e-19,\n",
      "         1.1981e-10, 3.4793e-21, 5.6362e-13, 9.0894e-19, 2.8308e-13, 9.7122e-35,\n",
      "         3.2963e-20, 6.1730e-05, 4.0740e-28, 5.3535e-21, 6.8879e-09, 5.7636e-20,\n",
      "         1.2531e-31, 3.6535e-05, 1.2475e-08, 1.9492e-11, 2.3148e-06, 5.9641e-04,\n",
      "         2.6100e-21, 2.6817e-10, 5.8607e-26, 1.2868e-27, 9.4654e-14, 4.9133e-12,\n",
      "         1.1575e-11, 7.0772e-03, 6.7418e-10, 4.4147e-05, 1.0455e-27, 8.7184e-14,\n",
      "         2.1784e-16, 1.1332e-27, 1.8217e-44, 3.2857e-21, 1.8241e-12, 3.8633e-19,\n",
      "         5.2720e-04, 3.3663e-01, 8.0188e-23, 3.6583e-01, 1.8816e-06, 2.9066e-03,\n",
      "         4.7794e-18, 1.8397e-07, 9.6808e-34, 1.6304e-28, 1.1185e-20, 1.2485e-31,\n",
      "         1.1625e-16, 1.1089e-37, 1.4018e-17, 9.4099e-21, 1.4016e-04, 2.2806e-06,\n",
      "         8.2588e-20, 1.1862e-23],\n",
      "        [1.6263e-04, 2.9079e-26, 1.9440e-06, 1.1036e-14, 6.2668e-03, 3.2998e-18,\n",
      "         7.3969e-08, 4.1911e-12, 6.5463e-13, 9.0998e-13, 4.6508e-04, 7.0547e-32,\n",
      "         4.2129e-10, 3.3969e-26, 2.3107e-14, 3.0371e-02, 2.8468e-05, 2.4750e-05,\n",
      "         1.1061e-24, 2.4576e-21, 3.7213e-14, 1.7091e-03, 6.2703e-16, 1.7116e-18,\n",
      "         1.1310e-27, 6.3285e-07, 2.4475e-05, 7.7407e-09, 2.9851e-35, 3.7201e-07,\n",
      "         2.1025e-04, 2.4168e-25, 1.7565e-09, 2.2745e-36, 3.9003e-07, 1.4312e-04,\n",
      "         3.0304e-25, 5.1916e-03, 2.5921e-09, 1.0496e-30, 1.1277e-30, 6.2289e-26,\n",
      "         1.8319e-06, 5.1769e-10, 5.5469e-08, 4.4093e-12, 1.9950e-21, 3.2184e-25,\n",
      "         1.2962e-23, 5.1544e-07, 4.7834e-23, 5.3088e-04, 5.5623e-16, 6.2119e-07,\n",
      "         1.0717e-22, 7.0475e-01, 1.1414e-17, 9.5269e-28, 3.5448e-12, 5.2042e-21,\n",
      "         3.5035e-34, 9.4376e-09, 9.5691e-14, 1.0956e-09, 8.5441e-10, 1.5009e-09,\n",
      "         5.3823e-24, 1.7730e-14, 4.9672e-07, 2.3690e-14, 8.4083e-34, 4.2258e-19,\n",
      "         2.0457e-10, 1.8222e-22, 2.7166e-13, 2.3820e-17, 6.9120e-13, 3.4170e-36,\n",
      "         7.6169e-21, 3.9222e-06, 4.1225e-27, 1.5444e-23, 3.3026e-07, 3.4500e-20,\n",
      "         3.1826e-32, 1.2653e-05, 2.4563e-08, 9.7819e-11, 9.2162e-07, 1.2754e-02,\n",
      "         6.7498e-23, 8.3083e-10, 8.2303e-26, 1.9612e-27, 3.1667e-12, 1.0815e-11,\n",
      "         1.8943e-11, 3.7670e-04, 4.3594e-08, 1.0677e-02, 6.6648e-30, 7.6163e-12,\n",
      "         1.5904e-16, 7.0129e-27, 8.4078e-45, 3.7125e-22, 2.5935e-12, 1.5883e-20,\n",
      "         2.0178e-03, 1.7716e-01, 1.4848e-24, 3.5857e-02, 1.0548e-05, 1.0958e-02,\n",
      "         9.2268e-18, 1.9112e-10, 4.4430e-35, 9.3358e-28, 3.0439e-22, 1.3704e-34,\n",
      "         2.9469e-16, 2.1286e-38, 2.6524e-17, 7.4656e-22, 2.8796e-04, 3.0447e-07,\n",
      "         1.4237e-19, 3.3112e-26]])\n",
      "Testing DataLoader 0: 100%|██████████| 3518/3518 [00:06<00:00, 520.79it/s]\n",
      "Average negative log-likelihood: 15.44\n",
      "Convergence status: True\n",
      "Number of EM iterations: 25\n",
      "Last recorded average NLL: 15.440840721130371\n"
     ]
    },
    {
     "data": {
      "text/plain": [
       "'\\n# 7. Optionally, save the model to disk.\\nsave_path = \"./trained_gmm\"\\ngmm.save(save_path)\\nprint(f\"GMM model saved to {save_path}\")'"
      ]
     },
     "execution_count": 7,
     "metadata": {},
     "output_type": "execute_result"
    }
   ],
   "source": [
    "#qques test inutiles \n",
    "# 1. Predict the most likely component for each datapoint.\n",
    "predicted_labels = gmm.predict(mfcc_tensor)\n",
    "print(\"Predicted cluster assignments (first 10 datapoints):\")\n",
    "print(predicted_labels[:10])\n",
    "\n",
    "# 2. Get the probability distribution (responsibilities) over components.\n",
    "responsibilities = gmm.predict_proba(mfcc_tensor)\n",
    "print(\"Responsibilities for the first 5 datapoints:\")\n",
    "print(responsibilities[:5])\n",
    "\n",
    "\n"
   ]
  },
  {
   "cell_type": "code",
   "execution_count": 11,
   "metadata": {},
   "outputs": [
    {
     "name": "stdout",
     "output_type": "stream",
     "text": [
      "['./data/stimuli/11_yt12024.wav', './data/stimuli/16_yt14028.wav', './data/stimuli/3_yt8024.wav', './data/stimuli/8_yt10028.wav', './data/stimuli/14_yt14020.wav', './data/stimuli/6_yt10020.wav', './data/stimuli/13_yt14016.wav', './data/stimuli/12_yt12028.wav', './data/stimuli/10_yt12020.wav', './data/stimuli/2_yt8020.wav', './data/stimuli/9_yt12016.wav', './data/stimuli/4_yt8028.wav', './data/stimuli/5_yt10016.wav', './data/stimuli/15_yt14024.wav', './data/stimuli/7_yt10024.wav', './data/stimuli/1_yt8016.wav']\n",
      "Processing stimulus: ./data/stimuli/11_yt12024.wav\n"
     ]
    },
    {
     "name": "stderr",
     "output_type": "stream",
     "text": [
      "GPU available: True (mps), used: False\n",
      "TPU available: False, using: 0 TPU cores\n",
      "HPU available: False, using: 0 HPUs\n",
      "/Users/julienf/.pyenv/versions/3.11.11/envs/ml/lib/python3.11/site-packages/pytorch_lightning/trainer/setup.py:177: GPU available but not used. You can set it by doing `Trainer(accelerator='gpu')`.\n"
     ]
    },
    {
     "name": "stdout",
     "output_type": "stream",
     "text": [
      "Processing stimulus: ./data/stimuli/16_yt14028.wav\n",
      "Processing stimulus: ./data/stimuli/3_yt8024.wav\n",
      "Processing stimulus: ./data/stimuli/8_yt10028.wav\n",
      "Processing stimulus: ./data/stimuli/14_yt14020.wav\n",
      "Processing stimulus: ./data/stimuli/6_yt10020.wav\n",
      "Processing stimulus: ./data/stimuli/13_yt14016.wav\n",
      "Processing stimulus: ./data/stimuli/12_yt12028.wav\n",
      "Processing stimulus: ./data/stimuli/10_yt12020.wav\n",
      "Processing stimulus: ./data/stimuli/2_yt8020.wav\n",
      "Processing stimulus: ./data/stimuli/9_yt12016.wav\n",
      "Processing stimulus: ./data/stimuli/4_yt8028.wav\n",
      "Processing stimulus: ./data/stimuli/5_yt10016.wav\n",
      "Processing stimulus: ./data/stimuli/15_yt14024.wav\n",
      "Processing stimulus: ./data/stimuli/7_yt10024.wav\n",
      "Processing stimulus: ./data/stimuli/1_yt8016.wav\n",
      "Predicting DataLoader 0: 100%|██████████| 1/1 [00:00<00:00, 18.52it/s]\n"
     ]
    },
    {
     "name": "stderr",
     "output_type": "stream",
     "text": [
      "GPU available: True (mps), used: False\n",
      "TPU available: False, using: 0 TPU cores\n",
      "HPU available: False, using: 0 HPUs\n"
     ]
    },
    {
     "name": "stdout",
     "output_type": "stream",
     "text": [
      "resp torch.Size([59, 128])\n",
      "avg torch.Size([128])\n",
      "Predicting DataLoader 0: 100%|██████████| 1/1 [00:00<00:00, 79.99it/s] "
     ]
    },
    {
     "name": "stderr",
     "output_type": "stream",
     "text": [
      "GPU available: True (mps), used: False\n"
     ]
    },
    {
     "name": "stdout",
     "output_type": "stream",
     "text": [
      "\n",
      "resp torch.Size([59, 128])\n",
      "avg torch.Size([128])\n"
     ]
    },
    {
     "name": "stderr",
     "output_type": "stream",
     "text": [
      "TPU available: False, using: 0 TPU cores\n",
      "HPU available: False, using: 0 HPUs\n"
     ]
    },
    {
     "name": "stdout",
     "output_type": "stream",
     "text": [
      "Predicting DataLoader 0: 100%|██████████| 1/1 [00:00<00:00, 419.43it/s]\n",
      "resp torch.Size([59, 128])\n",
      "avg torch.Size([128])\n"
     ]
    },
    {
     "name": "stderr",
     "output_type": "stream",
     "text": [
      "GPU available: True (mps), used: False\n",
      "TPU available: False, using: 0 TPU cores\n",
      "HPU available: False, using: 0 HPUs\n"
     ]
    },
    {
     "name": "stdout",
     "output_type": "stream",
     "text": [
      "Predicting DataLoader 0: 100%|██████████| 1/1 [00:00<00:00, 581.17it/s]"
     ]
    },
    {
     "name": "stderr",
     "output_type": "stream",
     "text": [
      "GPU available: True (mps), used: False\n",
      "TPU available: False, using: 0 TPU cores\n",
      "HPU available: False, using: 0 HPUs\n"
     ]
    },
    {
     "name": "stdout",
     "output_type": "stream",
     "text": [
      "\n",
      "resp torch.Size([59, 128])\n",
      "avg torch.Size([128])\n",
      "Predicting DataLoader 0: 100%|██████████| 1/1 [00:00<00:00, 445.07it/s]"
     ]
    },
    {
     "name": "stderr",
     "output_type": "stream",
     "text": [
      "GPU available: True (mps), used: False\n",
      "TPU available: False, using: 0 TPU cores\n",
      "HPU available: False, using: 0 HPUs\n"
     ]
    },
    {
     "name": "stdout",
     "output_type": "stream",
     "text": [
      "\n",
      "resp torch.Size([59, 128])\n",
      "avg torch.Size([128])\n",
      "Predicting DataLoader 0: 100%|██████████| 1/1 [00:00<00:00, 500.45it/s]"
     ]
    },
    {
     "name": "stderr",
     "output_type": "stream",
     "text": [
      "GPU available: True (mps), used: False\n",
      "TPU available: False, using: 0 TPU cores\n",
      "HPU available: False, using: 0 HPUs\n"
     ]
    },
    {
     "name": "stdout",
     "output_type": "stream",
     "text": [
      "\n",
      "resp torch.Size([59, 128])\n",
      "avg torch.Size([128])\n",
      "Predicting DataLoader 0: 100%|██████████| 1/1 [00:00<00:00, 461.88it/s]\n",
      "resp torch.Size([59, 128])\n",
      "avg torch.Size([128])\n"
     ]
    },
    {
     "name": "stderr",
     "output_type": "stream",
     "text": [
      "GPU available: True (mps), used: False\n",
      "TPU available: False, using: 0 TPU cores\n",
      "HPU available: False, using: 0 HPUs\n"
     ]
    },
    {
     "name": "stdout",
     "output_type": "stream",
     "text": [
      "Predicting DataLoader 0: 100%|██████████| 1/1 [00:00<00:00, 519.55it/s]"
     ]
    },
    {
     "name": "stderr",
     "output_type": "stream",
     "text": [
      "GPU available: True (mps), used: False\n",
      "TPU available: False, using: 0 TPU cores\n",
      "HPU available: False, using: 0 HPUs\n"
     ]
    },
    {
     "name": "stdout",
     "output_type": "stream",
     "text": [
      "\n",
      "resp torch.Size([59, 128])\n",
      "avg torch.Size([128])\n",
      "Predicting DataLoader 0: 100%|██████████| 1/1 [00:00<00:00, 582.38it/s]"
     ]
    },
    {
     "name": "stderr",
     "output_type": "stream",
     "text": [
      "GPU available: True (mps), used: False\n",
      "TPU available: False, using: 0 TPU cores\n",
      "HPU available: False, using: 0 HPUs\n"
     ]
    },
    {
     "name": "stdout",
     "output_type": "stream",
     "text": [
      "\n",
      "resp torch.Size([59, 128])\n",
      "avg torch.Size([128])\n",
      "Predicting DataLoader 0: 100%|██████████| 1/1 [00:00<00:00, 97.42it/s] "
     ]
    },
    {
     "name": "stderr",
     "output_type": "stream",
     "text": [
      "GPU available: True (mps), used: False\n",
      "TPU available: False, using: 0 TPU cores\n",
      "HPU available: False, using: 0 HPUs\n"
     ]
    },
    {
     "name": "stdout",
     "output_type": "stream",
     "text": [
      "\n",
      "resp torch.Size([59, 128])\n",
      "avg torch.Size([128])\n",
      "Predicting DataLoader 0: 100%|██████████| 1/1 [00:00<00:00, 617.72it/s]"
     ]
    },
    {
     "name": "stderr",
     "output_type": "stream",
     "text": [
      "GPU available: True (mps), used: False\n",
      "TPU available: False, using: 0 TPU cores\n",
      "HPU available: False, using: 0 HPUs\n"
     ]
    },
    {
     "name": "stdout",
     "output_type": "stream",
     "text": [
      "\n",
      "resp torch.Size([59, 128])\n",
      "avg torch.Size([128])\n",
      "Predicting DataLoader 0: 100%|██████████| 1/1 [00:00<00:00, 447.63it/s]"
     ]
    },
    {
     "name": "stderr",
     "output_type": "stream",
     "text": [
      "GPU available: True (mps), used: False\n",
      "TPU available: False, using: 0 TPU cores\n",
      "HPU available: False, using: 0 HPUs\n"
     ]
    },
    {
     "name": "stdout",
     "output_type": "stream",
     "text": [
      "\n",
      "resp torch.Size([59, 128])\n",
      "avg torch.Size([128])\n",
      "Predicting DataLoader 0: 100%|██████████| 1/1 [00:00<00:00, 417.84it/s]"
     ]
    },
    {
     "name": "stderr",
     "output_type": "stream",
     "text": [
      "GPU available: True (mps), used: False\n",
      "TPU available: False, using: 0 TPU cores\n"
     ]
    },
    {
     "name": "stdout",
     "output_type": "stream",
     "text": [
      "\n",
      "resp torch.Size([59, 128])\n",
      "avg torch.Size([128])\n"
     ]
    },
    {
     "name": "stderr",
     "output_type": "stream",
     "text": [
      "HPU available: False, using: 0 HPUs\n"
     ]
    },
    {
     "name": "stdout",
     "output_type": "stream",
     "text": [
      "Predicting DataLoader 0: 100%|██████████| 1/1 [00:00<00:00, 555.91it/s]"
     ]
    },
    {
     "name": "stderr",
     "output_type": "stream",
     "text": [
      "GPU available: True (mps), used: False\n",
      "TPU available: False, using: 0 TPU cores\n",
      "HPU available: False, using: 0 HPUs\n"
     ]
    },
    {
     "name": "stdout",
     "output_type": "stream",
     "text": [
      "\n",
      "resp torch.Size([59, 128])\n",
      "avg torch.Size([128])\n",
      "Predicting DataLoader 0: 100%|██████████| 1/1 [00:00<00:00, 478.97it/s]\n",
      "resp torch.Size([59, 128])\n",
      "avg torch.Size([128])\n"
     ]
    },
    {
     "name": "stderr",
     "output_type": "stream",
     "text": [
      "GPU available: True (mps), used: False\n",
      "TPU available: False, using: 0 TPU cores\n",
      "HPU available: False, using: 0 HPUs\n"
     ]
    },
    {
     "name": "stdout",
     "output_type": "stream",
     "text": [
      "Predicting DataLoader 0: 100%|██████████| 1/1 [00:00<00:00, 538.77it/s]\n",
      "resp torch.Size([59, 128])\n",
      "avg torch.Size([128])\n"
     ]
    }
   ],
   "source": [
    "\n",
    "\n",
    "\n",
    "def process_stimulus(audio_file_path, sample_rate=16000):\n",
    "    # Load the audio using librosa (or another method)\n",
    "    audio_array, sr = librosa.load(audio_file_path, sr=sample_rate)\n",
    "    mfcc_features = compute_mfcc(audio_array, sr)\n",
    "    return mfcc_features  # NumPy array of shape (n_frames, n_mfcc)\n",
    "\n",
    "# List your stimulus file paths (16 audio files)\n",
    "stimulus_files = os.listdir(\"./data/stimuli\")\n",
    "stimulus_files = [os.path.join(\"./data/stimuli\", file) for file in stimulus_files]\n",
    "\n",
    "print(stimulus_files)  \n",
    "\n",
    "\n",
    "# Process each stimulus\n",
    "stimulus_mfccs = []\n",
    "for file_path in stimulus_files:\n",
    "    print(f\"Processing stimulus: {file_path}\")\n",
    "    mfcc = process_stimulus(file_path)\n",
    "    stimulus_mfccs.append(mfcc)\n",
    "\n",
    "# --- Step 2: Get cluster responsibilities for each stimulus ---\n",
    "# Suppose gmm is your trained GaussianMixture model.\n",
    "# We will compute the average responsibilities per stimulus.\n",
    "\n",
    "stimulus_cluster_posteriors = []  # list of shape (num_components,) per stimulus\n",
    "stimulus_labels = [\"l\",\n",
    "                   \"l\",\n",
    "                   \"l\",\n",
    "                   \"l\",\n",
    "                   \"r\",\n",
    "                   \"r\",\n",
    "                   \"r\",\n",
    "                   \"l\",\n",
    "                   \"r\",\n",
    "                   \"r\",\n",
    "                   \"r\",\n",
    "                   \"l\",\n",
    "                   \"r\",\n",
    "                   \"l\",\n",
    "                   \"l\",\n",
    "                    \"r\"]\n",
    "\n",
    "\n",
    "for mfcc in stimulus_mfccs:\n",
    "    # Convert to torch tensor (float32)\n",
    "    mfcc_tensor = torch.tensor(mfcc, dtype=torch.float32)\n",
    "    # Get responsibilities (posterior probabilities) for each frame.\n",
    "    responsibilities = gmm.predict_proba(mfcc_tensor)\n",
    "    # Average the responsibilities over all frames.\n",
    "    print(\"resp\",responsibilities.shape)\n",
    "    avg_resp = responsibilities.mean(dim=0)\n",
    "    print(\"avg\",avg_resp.shape)\n",
    "    stimulus_cluster_posteriors.append(avg_resp.detach().cpu().numpy())\n",
    "\n",
    "# Now, stimulus_cluster_posteriors is a list of 16 vectors (each of length num_components).\n",
    "\n"
   ]
  },
  {
   "cell_type": "code",
   "execution_count": 13,
   "metadata": {},
   "outputs": [
    {
     "data": {
      "image/png": "[encoded data removed]",
      "text/plain": [
       "<Figure size 1000x500 with 1 Axes>"
      ]
     },
     "metadata": {},
     "output_type": "display_data"
    }
   ],
   "source": [
    "# Example inputs:\n",
    "# stimulus_cluster_posteriors: list of 16 numpy arrays, each of shape (num_clusters,)\n",
    "# For instance, if you have 32 clusters then each array is of shape (32,).\n",
    "# These come from averaging the responsibilities (posterior probabilities) over the MFCC frames of each stimulus.\n",
    "\n",
    "\n",
    "# stimulus_labels: a list of 16 labels corresponding to your 16 stimuli.\n",
    "# Here we assume that the stimuli are labeled \"r\" for /r/ sounds and \"l\" for /l/ sounds.\n",
    "\n",
    "\n",
    "# Convert the list of posterior vectors into a 2D array for easier manipulation.\n",
    "posteriors = np.stack(stimulus_cluster_posteriors, axis=0)  # shape: (num_stimuli, num_clusters)\n",
    "num_stimuli, num_clusters = posteriors.shape\n",
    "\n",
    "# Separate indices for /r/ and /l/ stimuli.\n",
    "r_indices = [i for i, lab in enumerate(stimulus_labels) if lab.lower() == \"r\"]\n",
    "l_indices = [i for i, lab in enumerate(stimulus_labels) if lab.lower() == \"l\"]\n",
    "\n",
    "# Compute average posterior probability for each cluster for each group.\n",
    "avg_r = posteriors[r_indices, :].mean(axis=0)\n",
    "avg_l = posteriors[l_indices, :].mean(axis=0)\n",
    "\n",
    "# Plot the average probabilities for each cluster side by side.\n",
    "x = np.arange(num_clusters)\n",
    "width = 0.35\n",
    "\n",
    "fig, ax = plt.subplots(figsize=(10, 5))\n",
    "ax.bar(x - width/2, avg_r, width, label=\"/r/ stimuli\")\n",
    "ax.bar(x + width/2, avg_l, width, label=\"/l/ stimuli\")\n",
    "ax.set_xlabel(\"Cluster Index\")\n",
    "ax.set_ylabel(\"Average Posterior Probability\")\n",
    "ax.set_title(\"Average GMM Cluster Probabilities for /r/ vs. /l/ Stimuli\")\n",
    "ax.set_xticks(x)\n",
    "ax.legend()\n",
    "plt.show()\n"
   ]
  },
  {
   "cell_type": "code",
   "execution_count": 14,
   "metadata": {},
   "outputs": [
    {
     "name": "stderr",
     "output_type": "stream",
     "text": [
      "GPU available: True (mps), used: False\n",
      "TPU available: False, using: 0 TPU cores\n",
      "HPU available: False, using: 0 HPUs\n"
     ]
    },
    {
     "name": "stdout",
     "output_type": "stream",
     "text": [
      "Predicting DataLoader 0: 100%|██████████| 1/1 [00:00<00:00, 303.01it/s]\n",
      "Effective counts per cluster: tensor([4.5969e-02, 2.0649e-03, 8.4090e-01, 3.8908e-05, 8.1162e-02, 2.9258e-05,\n",
      "        3.1489e-03, 2.0841e-03, 8.4878e-05, 7.4021e-05, 3.1040e-02, 1.6261e+00,\n",
      "        8.7667e-05, 1.0778e-05, 6.2577e-04, 3.9104e-01, 1.7035e-01, 5.2256e+00,\n",
      "        3.4613e-01, 1.0539e-04, 2.3992e-01, 1.4349e-01, 4.7892e-01, 4.6857e-01,\n",
      "        1.1200e+00, 5.7517e-03, 5.8833e-02, 3.6363e-01, 3.1615e-03, 3.4278e+00,\n",
      "        6.8468e-02, 2.8082e-04, 2.0864e-01, 1.1244e+00, 9.7662e-01, 4.3474e-01,\n",
      "        5.2707e-02, 2.4174e+00, 3.3845e-03, 1.8025e-04, 1.1382e-03, 3.9937e-02,\n",
      "        3.6484e-03, 4.9033e-03, 5.1535e-01, 2.2059e-03, 5.9129e-03, 1.1185e-01,\n",
      "        1.1915e-01, 8.1160e-01, 3.3856e-02, 2.4634e-01, 5.5317e+00, 8.9155e-02,\n",
      "        1.8430e-04, 1.7100e+00, 5.0159e-06, 4.8048e-01, 1.9196e-06, 4.9339e-04,\n",
      "        1.5792e+00, 3.9812e-02, 1.5979e-02, 5.6855e-05, 1.4589e-01, 1.3325e-02,\n",
      "        8.3497e-01, 5.7987e-01, 1.2540e-03, 1.5027e-03, 5.1642e-01, 1.3600e-04,\n",
      "        5.5606e-01, 1.9210e-02, 2.7409e-02, 1.1005e+00, 6.8008e-06, 3.1288e-02,\n",
      "        6.9021e-01, 1.5189e+00, 3.9033e-02, 1.8684e-05, 2.7240e-02, 1.6423e-02,\n",
      "        7.3519e-01, 8.8895e-01, 1.6675e-01, 5.2599e-02, 7.7001e-02, 2.4899e-01,\n",
      "        2.1026e+00, 1.2373e-01, 2.1880e-03, 3.5468e-02, 9.5678e-01, 8.0464e-02,\n",
      "        1.0695e+00, 2.4153e-01, 7.2623e-01, 1.5116e-01, 7.6301e-02, 5.8028e-02,\n",
      "        2.3723e-03, 3.4157e-01, 2.3323e+00, 1.0044e+00, 9.4132e-05, 1.9295e-02,\n",
      "        9.7838e-02, 1.5263e+00, 2.5347e-04, 5.8121e-01, 1.7264e+00, 1.3477e+00,\n",
      "        9.9330e-01, 1.0084e-03, 8.6091e-01, 4.2498e-01, 4.3606e-02, 6.8174e-02,\n",
      "        1.6971e-05, 1.0725e-01, 3.0771e-01, 2.4914e-02, 1.5544e+00, 1.2840e-02,\n",
      "        1.8253e-03, 3.7173e-07])\n"
     ]
    }
   ],
   "source": [
    "responsibilities = gmm.predict_proba(mfcc_tensor)  # shape: [N, K]\n",
    "effective_counts = responsibilities.sum(axis=0)\n",
    "print(\"Effective counts per cluster:\", effective_counts)"
   ]
  },
  {
   "cell_type": "code",
   "execution_count": 16,
   "metadata": {},
   "outputs": [
    {
     "name": "stderr",
     "output_type": "stream",
     "text": [
      "GPU available: True (mps), used: False\n",
      "TPU available: False, using: 0 TPU cores\n",
      "HPU available: False, using: 0 HPUs\n"
     ]
    },
    {
     "name": "stdout",
     "output_type": "stream",
     "text": [
      "Predicting DataLoader 0: 100%|██████████| 1/1 [00:00<00:00, 391.11it/s]"
     ]
    },
    {
     "name": "stderr",
     "output_type": "stream",
     "text": [
      "GPU available: True (mps), used: False\n",
      "TPU available: False, using: 0 TPU cores\n",
      "HPU available: False, using: 0 HPUs\n"
     ]
    },
    {
     "name": "stdout",
     "output_type": "stream",
     "text": [
      "\n",
      "Predicting DataLoader 0: 100%|██████████| 1/1 [00:00<00:00, 159.06it/s]"
     ]
    },
    {
     "name": "stderr",
     "output_type": "stream",
     "text": [
      "GPU available: True (mps), used: False\n",
      "TPU available: False, using: 0 TPU cores\n",
      "HPU available: False, using: 0 HPUs\n"
     ]
    },
    {
     "name": "stdout",
     "output_type": "stream",
     "text": [
      "\n",
      "Predicting DataLoader 0: 100%|██████████| 1/1 [00:00<00:00, 503.76it/s]"
     ]
    },
    {
     "name": "stderr",
     "output_type": "stream",
     "text": [
      "GPU available: True (mps), used: False\n",
      "TPU available: False, using: 0 TPU cores\n",
      "HPU available: False, using: 0 HPUs\n"
     ]
    },
    {
     "name": "stdout",
     "output_type": "stream",
     "text": [
      "\n",
      "Predicting DataLoader 0: 100%|██████████| 1/1 [00:00<00:00, 568.87it/s]"
     ]
    },
    {
     "name": "stderr",
     "output_type": "stream",
     "text": [
      "GPU available: True (mps), used: False\n",
      "TPU available: False, using: 0 TPU cores\n",
      "HPU available: False, using: 0 HPUs\n"
     ]
    },
    {
     "name": "stdout",
     "output_type": "stream",
     "text": [
      "\n",
      "Predicting DataLoader 0: 100%|██████████| 1/1 [00:00<00:00, 519.80it/s]"
     ]
    },
    {
     "name": "stderr",
     "output_type": "stream",
     "text": [
      "GPU available: True (mps), used: False\n",
      "TPU available: False, using: 0 TPU cores\n",
      "HPU available: False, using: 0 HPUs\n"
     ]
    },
    {
     "name": "stdout",
     "output_type": "stream",
     "text": [
      "\n",
      "Predicting DataLoader 0: 100%|██████████| 1/1 [00:00<00:00, 591.33it/s]"
     ]
    },
    {
     "name": "stderr",
     "output_type": "stream",
     "text": [
      "GPU available: True (mps), used: False\n",
      "TPU available: False, using: 0 TPU cores\n",
      "HPU available: False, using: 0 HPUs\n"
     ]
    },
    {
     "name": "stdout",
     "output_type": "stream",
     "text": [
      "\n",
      "Predicting DataLoader 0: 100%|██████████| 1/1 [00:00<00:00, 508.15it/s]"
     ]
    },
    {
     "name": "stderr",
     "output_type": "stream",
     "text": [
      "GPU available: True (mps), used: False\n",
      "TPU available: False, using: 0 TPU cores\n",
      "HPU available: False, using: 0 HPUs\n"
     ]
    },
    {
     "name": "stdout",
     "output_type": "stream",
     "text": [
      "\n",
      "Predicting DataLoader 0: 100%|██████████| 1/1 [00:00<00:00, 559.32it/s]"
     ]
    },
    {
     "name": "stderr",
     "output_type": "stream",
     "text": [
      "GPU available: True (mps), used: False\n",
      "TPU available: False, using: 0 TPU cores\n",
      "HPU available: False, using: 0 HPUs\n"
     ]
    },
    {
     "name": "stdout",
     "output_type": "stream",
     "text": [
      "\n",
      "Predicting DataLoader 0: 100%|██████████| 1/1 [00:00<00:00, 135.87it/s]"
     ]
    },
    {
     "name": "stderr",
     "output_type": "stream",
     "text": [
      "GPU available: True (mps), used: False\n",
      "TPU available: False, using: 0 TPU cores\n",
      "HPU available: False, using: 0 HPUs\n"
     ]
    },
    {
     "name": "stdout",
     "output_type": "stream",
     "text": [
      "\n",
      "Predicting DataLoader 0: 100%|██████████| 1/1 [00:00<00:00, 399.69it/s]"
     ]
    },
    {
     "name": "stderr",
     "output_type": "stream",
     "text": [
      "GPU available: True (mps), used: False\n",
      "TPU available: False, using: 0 TPU cores\n",
      "HPU available: False, using: 0 HPUs\n"
     ]
    },
    {
     "name": "stdout",
     "output_type": "stream",
     "text": [
      "\n",
      "Predicting DataLoader 0: 100%|██████████| 1/1 [00:00<00:00, 371.47it/s]"
     ]
    },
    {
     "name": "stderr",
     "output_type": "stream",
     "text": [
      "GPU available: True (mps), used: False\n",
      "TPU available: False, using: 0 TPU cores\n",
      "HPU available: False, using: 0 HPUs\n"
     ]
    },
    {
     "name": "stdout",
     "output_type": "stream",
     "text": [
      "\n",
      "Predicting DataLoader 0: 100%|██████████| 1/1 [00:00<00:00, 534.71it/s]"
     ]
    },
    {
     "name": "stderr",
     "output_type": "stream",
     "text": [
      "GPU available: True (mps), used: False\n",
      "TPU available: False, using: 0 TPU cores\n",
      "HPU available: False, using: 0 HPUs\n"
     ]
    },
    {
     "name": "stdout",
     "output_type": "stream",
     "text": [
      "\n",
      "Predicting DataLoader 0: 100%|██████████| 1/1 [00:00<00:00, 503.52it/s]\n"
     ]
    },
    {
     "name": "stderr",
     "output_type": "stream",
     "text": [
      "GPU available: True (mps), used: False\n",
      "TPU available: False, using: 0 TPU cores\n",
      "HPU available: False, using: 0 HPUs\n"
     ]
    },
    {
     "name": "stdout",
     "output_type": "stream",
     "text": [
      "Predicting DataLoader 0: 100%|██████████| 1/1 [00:00<00:00, 462.79it/s]"
     ]
    },
    {
     "name": "stderr",
     "output_type": "stream",
     "text": [
      "GPU available: True (mps), used: False\n",
      "TPU available: False, using: 0 TPU cores\n",
      "HPU available: False, using: 0 HPUs\n"
     ]
    },
    {
     "name": "stdout",
     "output_type": "stream",
     "text": [
      "\n",
      "Predicting DataLoader 0: 100%|██████████| 1/1 [00:00<00:00, 470.64it/s]\n"
     ]
    },
    {
     "name": "stderr",
     "output_type": "stream",
     "text": [
      "GPU available: True (mps), used: False\n",
      "TPU available: False, using: 0 TPU cores\n",
      "HPU available: False, using: 0 HPUs\n"
     ]
    },
    {
     "name": "stdout",
     "output_type": "stream",
     "text": [
      "Predicting DataLoader 0: 100%|██████████| 1/1 [00:00<00:00, 141.60it/s]\n"
     ]
    },
    {
     "data": {
      "image/png": "[encoded data removed]",
      "text/plain": [
       "<Figure size 1000x800 with 1 Axes>"
      ]
     },
     "metadata": {},
     "output_type": "display_data"
    }
   ],
   "source": [
    "\n",
    "\n",
    "# --- 1. Charger le modèle entraîné ---\n",
    "model_path = \"./data/trained_models/10h_trained_gmm\"  # <-- À modifier\n",
    "gmm = bayes.GaussianMixture.load(model_path)\n",
    "\n",
    "\n",
    "# --- 2. Calcul des embeddings des stimuli ---\n",
    "stimulus_embeddings = []\n",
    "for mfcc in stimulus_mfccs:  # Utilisez vos MFCC pré-calculés\n",
    "    with torch.no_grad():\n",
    "        mfcc_tensor = torch.tensor(mfcc, dtype=torch.float32)\n",
    "        responsibilities = gmm.predict_proba(mfcc_tensor)\n",
    "        avg_embedding = responsibilities.mean(dim=0).numpy()\n",
    "        stimulus_embeddings.append(avg_embedding)\n",
    "\n",
    "# --- 3. Calcul de la matrice de distance ---\n",
    "distance_matrix = squareform(pdist(stimulus_embeddings, metric='cosine'))\n",
    "\n",
    "# --- 4. Réduction de dimension avec MDS ---\n",
    "mds = MDS(n_components=2, dissimilarity='precomputed', random_state=42)\n",
    "mds_coords = mds.fit_transform(distance_matrix)\n",
    "\n",
    "# --- 5. Visualisation ---\n",
    "plt.figure(figsize=(10, 8))\n",
    "colors = ['red' if label == 'r' else 'blue' for label in stimulus_labels]\n",
    "\n",
    "# Plot chaque stimulus avec son numéro\n",
    "for i, (x, y) in enumerate(mds_coords):\n",
    "    plt.scatter(x, y, c=colors[i], s=200, edgecolor='w', linewidth=1)\n",
    "    plt.text(x+0.02, y+0.02, str(i+1), fontsize=10, ha='center', va='center')\n",
    "\n",
    "# Légende\n",
    "plt.scatter([], [], c='red', label='R')\n",
    "plt.scatter([], [], c='blue', label='L')\n",
    "plt.legend(loc='best')\n",
    "\n",
    "plt.title(\"Projection MDS des embeddings des stimuli\")\n",
    "plt.xlabel(\"Dimension 1 (F2-like)\")\n",
    "plt.ylabel(\"Dimension 2 (F3-like)\")\n",
    "plt.grid(alpha=0.3)\n",
    "plt.show()\n",
    "\n",
    "# --- 6. Sauvegarde des résultats ---\n",
    "np.save(\"mds_coords.npy\", mds_coords)\n",
    "np.save(\"distance_matrix.npy\", distance_matrix)"
   ]
  },
  {
   "cell_type": "code",
   "execution_count": null,
   "metadata": {},
   "outputs": [],
   "source": [
    "#a implementer : plusieurs seeds, plusieurs durées, comparaison des durées\n",
    "\n",
    "import numpy as np\n",
    "from sklearn.manifold import MDS\n",
    "from scipy.spatial.distance import cdist\n",
    "import matplotlib.pyplot as plt\n",
    "import seaborn as sns\n",
    "\n",
    "# Configuration globale\n",
    "N_COMPONENTS = 128  \n",
    "N_MDS_DIMENSIONS = 2\n",
    "TRAINING_DURATIONS = ['1h', '10h', '100h']\n",
    "N_SEEDS = 1\n",
    "\n",
    "# Fonction pour charger les modèles entraînés\n",
    "def load_models(duration, n_seeds):\n",
    "    models = []\n",
    "    for seed in range(n_seeds):\n",
    "        model_path = f\"./models/gmm_{duration}_seed{seed}.pt\"\n",
    "        models.append(torch.load(model_path))\n",
    "    return models\n",
    "\n",
    "# Calcul des embeddings moyens sur plusieurs runs\n",
    "def compute_average_embeddings(models, stimulus_mfccs):\n",
    "    all_embeddings = []\n",
    "    for model in models:\n",
    "        embeddings = []\n",
    "        for mfcc in stimulus_mfccs:\n",
    "            mfcc_tensor = torch.tensor(mfcc, dtype=torch.float32)\n",
    "            responsibilities = model.predict_proba(mfcc_tensor)\n",
    "            avg_resp = responsibilities.mean(dim=0).detach().cpu().numpy()\n",
    "            embeddings.append(avg_resp)\n",
    "        all_embeddings.append(np.array(embeddings))\n",
    "    return np.mean(all_embeddings, axis=0)\n",
    "\n",
    "# Analyse MDS pour une durée d'entraînement\n",
    "def analyze_duration(duration, stimulus_mfccs, stimulus_labels):\n",
    "    # Charger les modèles\n",
    "    models = load_models(duration, N_SEEDS)\n",
    "    \n",
    "    # Calculer les embeddings moyens\n",
    "    avg_embeddings = compute_average_embeddings(models, stimulus_mfccs)\n",
    "    \n",
    "    # Calcul de la matrice de distance moyenne\n",
    "    distance_matrix = cdist(avg_embeddings, avg_embeddings, metric='cosine')\n",
    "    \n",
    "    # Réduction de dimension avec MDS\n",
    "    mds = MDS(n_components=N_MDS_DIMENSIONS, dissimilarity='precomputed', random_state=42)\n",
    "    mds_coords = mds.fit_transform(distance_matrix)\n",
    "    \n",
    "    # Visualisation\n",
    "    plt.figure(figsize=(10, 8))\n",
    "    colors = ['red' if label == 'R' else 'blue' for label in stimulus_labels]\n",
    "    \n",
    "    for i, (x, y) in enumerate(mds_coords):\n",
    "        plt.scatter(x, y, c=colors[i], s=100)\n",
    "        plt.text(x+0.02, y+0.02, str(i+1), fontsize=9)\n",
    "    \n",
    "    plt.title(f\"MDS - {duration} d'entraînement\")\n",
    "    plt.xlabel(\"Dimension 1 (F2-like)\")\n",
    "    plt.ylabel(\"Dimension 2 (F3-like)\")\n",
    "    \n",
    "    # Sauvegarde des coordonnées\n",
    "    np.save(f\"mds_{duration}.npy\", mds_coords)\n",
    "    plt.savefig(f\"mds_{duration}.png\")\n",
    "    plt.close()\n",
    "\n",
    "# Analyse comparative sur toutes les durées\n",
    "def full_analysis(stimulus_mfccs, stimulus_labels):\n",
    "    fig, axes = plt.subplots(1, len(TRAINING_DURATIONS), figsize=(20, 6))\n",
    "    \n",
    "    for idx, duration in enumerate(TRAINING_DURATIONS):\n",
    "        models = load_models(duration, N_SEEDS)\n",
    "        avg_embeddings = compute_average_embeddings(models, stimulus_mfccs)\n",
    "        distance_matrix = cdist(avg_embeddings, avg_embeddings, metric='cosine')\n",
    "        mds = MDS(n_components=N_MDS_DIMENSIONS, dissimilarity='precomputed', random_state=42)\n",
    "        mds_coords = mds.fit_transform(distance_matrix)\n",
    "        \n",
    "        colors = ['red' if label == 'R' else 'blue' for label in stimulus_labels]\n",
    "        axes[idx].scatter(mds_coords[:,0], mds_coords[:,1], c=colors, s=100)\n",
    "        axes[idx].set_title(duration)\n",
    "        axes[idx].set_xlabel(\"Dimension 1\")\n",
    "        axes[idx].set_ylabel(\"Dimension 2\")\n",
    "    \n",
    "    plt.tight_layout()\n",
    "    plt.savefig(\"mds_comparison.png\")\n",
    "    plt.close()\n",
    "\n",
    "# Exécution principale\n",
    "if __name__ == \"__main__\":\n",
    "    # Charger les MFCC des stimuli (déjà calculés)\n",
    "    stimulus_mfccs = [...]  # Remplacer par vos données\n",
    "    \n",
    "    # Vérifier les labels\n",
    "    stimulus_labels = [...]  # Liste de 16 labels R/L\n",
    "    \n",
    "    # Analyse par durée\n",
    "    for duration in TRAINING_DURATIONS:\n",
    "        analyze_duration(duration, stimulus_mfccs, stimulus_labels)\n",
    "    \n",
    "    # Analyse comparative\n",
    "    full_analysis(stimulus_mfccs, stimulus_labels)\n",
    "\n",
    "    # Analyse statistique des dimensions\n",
    "    for duration in TRAINING_DURATIONS:\n",
    "        coords = np.load(f\"mds_{duration}.npy\")\n",
    "        print(f\"\\nAnalyse pour {duration}:\")\n",
    "        print(f\"Variance expliquée - Dim1: {np.var(coords[:,0]):.2f}, Dim2: {np.var(coords[:,1]):.2f}\")\n",
    "        print(f\"Ratio F2/F3: {np.var(coords[:,0])/np.var(coords[:,1]):.2f}\")"
   ]
  },
  {
   "cell_type": "code",
   "execution_count": null,
   "metadata": {},
   "outputs": [],
   "source": []
  },
  {
   "cell_type": "code",
   "execution_count": null,
   "metadata": {},
   "outputs": [],
   "source": []
  }
 ],
 "metadata": {
  "kernelspec": {
   "display_name": "ml",
   "language": "python",
   "name": "python3"
  },
  "language_info": {
   "codemirror_mode": {
    "name": "ipython",
    "version": 3
   },
   "file_extension": ".py",
   "mimetype": "text/x-python",
   "name": "python",
   "nbconvert_exporter": "python",
   "pygments_lexer": "ipython3",
   "version": "3.11.11"
  }
 },
 "nbformat": 4,
 "nbformat_minor": 2
}
