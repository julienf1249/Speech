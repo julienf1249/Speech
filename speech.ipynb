{
 "cells": [
  {
   "cell_type": "code",
   "execution_count": 21,
   "metadata": {},
   "outputs": [],
   "source": [
    "import datasets\n",
    "\n",
    "import numpy as np\n",
    "import torch\n",
    "import torchaudio\n",
    "import torchaudio.transforms as T\n",
    "import pickle\n",
    "import librosa\n",
    "import torch\n",
    "import torchgmm.bayes as bayes\n",
    "import os\n",
    "from utils import group_samples_by_speaker, create_balanced_duration_dataset_from_groups,compute_mfcc, save_dataset_with_mfcc, load_dataset_with_mfcc, create_balanced_dataset\n",
    "\n",
    "import natsort\n",
    "import random\n",
    "import numpy as np\n",
    "import torch\n",
    "import matplotlib.pyplot as plt\n",
    "from sklearn.manifold import MDS\n",
    "from scipy.spatial.distance import pdist, squareform\n"
   ]
  },
  {
   "cell_type": "markdown",
   "metadata": {},
   "source": [
    "### download dataset"
   ]
  },
  {
   "cell_type": "code",
   "execution_count": null,
   "metadata": {},
   "outputs": [],
   "source": [
    "\"\"\"\n",
    "import aiohttp\n",
    "dataset = datasets.load_dataset(\"librispeech_asr\", \n",
    "                                \"clean\", \n",
    "                                split=\"train.100\",\n",
    "    storage_options={'client_kwargs': {'timeout': aiohttp.ClientTimeout(total=3600)}}\n",
    ")\n",
    "dataset.save_to_disk(\"./data/librispeech_hf\")\"\"\""
   ]
  },
  {
   "cell_type": "markdown",
   "metadata": {},
   "source": [
    "### load and create subsets"
   ]
  },
  {
   "cell_type": "code",
   "execution_count": null,
   "metadata": {},
   "outputs": [],
   "source": [
    "dataset = datasets.load_from_disk(\"./data/librispeech_hf\")"
   ]
  },
  {
   "cell_type": "code",
   "execution_count": null,
   "metadata": {},
   "outputs": [],
   "source": [
    "speaker_groups = group_samples_by_speaker(dataset)"
   ]
  },
  {
   "cell_type": "code",
   "execution_count": null,
   "metadata": {},
   "outputs": [],
   "source": [
    "# Create balanced datasets of different durations:\n",
    "\n",
    "seeds=[12, 34, 43, 734, 75]\n",
    "duration = [300, 600, 1800, 3600]\n",
    "nb_clusters = [8,16,128,256]\n",
    "for seed in seeds:\n",
    "    for time in duration:\n",
    "        random.seed(seed)\n",
    "        dataset_balanced = create_balanced_duration_dataset_from_groups(speaker_groups, target_duration=time)\n",
    "        save_dataset_with_mfcc(dataset_balanced, f\"./data/librispeech_balanced_{time}_seed_{seed}\")\n",
    "        mfcc_dataset = load_dataset_with_mfcc(f\"./data/librispeech_balanced_{time}_seed_{seed}\")\n",
    "        all_mfcc_frames = []\n",
    "\n",
    "        for sample in mfcc_dataset:\n",
    "            # Convert the mfcc list to a numpy array (shape: n_frames x n_mfcc)\n",
    "            mfcc_frames = np.array(sample[\"mfcc\"])\n",
    "            all_mfcc_frames.append(mfcc_frames)\n",
    "\n",
    "        # Concatenate all frames along the time axis.\n",
    "        # This yields an array of shape (total_n_frames, n_mfcc)\n",
    "        all_mfcc = np.vstack(all_mfcc_frames)\n",
    "        print(\"Total MFCC frames:\", all_mfcc.shape[0])\n",
    "        print(\"MFCC feature dimension:\", all_mfcc.shape[1])\n",
    "\n",
    "        # Convert the NumPy array to a PyTorch tensor.\n",
    "        mfcc_tensor = torch.tensor(all_mfcc, dtype=torch.float32)\n",
    "        torch.save(mfcc_tensor, f'./data/mfcc_tensors/tensor_{time}_seed_{seed}.pt')\n",
    "\n",
    "        nb_clusters = 16  \n",
    "        gmm = bayes.GaussianMixture(\n",
    "            num_components=nb_clusters,\n",
    "            batch_size=1024,  # Process the data in batches of 1024 samples\n",
    "            trainer_params={\n",
    "                \"max_epochs\": 40,       \n",
    "                \"accelerator\": \"cpu\",   # Force CPU training (MPS on macbook is not supported)\n",
    "            }\n",
    "        )\n",
    "        gmm = gmm.fit(mfcc_tensor)\n",
    "\n",
    "        save_path = f\"./data/trained_models/trained_gmm_{time}_seed_{seed}\"\n",
    "        gmm.save(save_path)\n",
    "        print(f\"GMM model saved to {save_path}\")\n",
    "    "
   ]
  },
  {
   "cell_type": "markdown",
   "metadata": {},
   "source": [
    "save subset"
   ]
  },
  {
   "cell_type": "code",
   "execution_count": null,
   "metadata": {},
   "outputs": [],
   "source": [
    "save_dataset_with_mfcc(hdataset, \"./data/mfcc_datasets/mn5_mfcc\")"
   ]
  },
  {
   "cell_type": "code",
   "execution_count": null,
   "metadata": {},
   "outputs": [],
   "source": [
    "mfcc_dataset = load_dataset_with_mfcc(\"./data/mfcc_datasets/mn5_mfcc\")"
   ]
  },
  {
   "cell_type": "code",
   "execution_count": null,
   "metadata": {},
   "outputs": [],
   "source": [
    "\n",
    "\n",
    "# --- Step 1: Flatten MFCC frames from the dataset ---\n",
    "# Each sample in mfcc_dataset has a key \"mfcc\" (a list of lists where each inner list is one MFCC frame)\n",
    "all_mfcc_frames = []\n",
    "\n",
    "for sample in mfcc_dataset:\n",
    "    # Convert the mfcc list to a numpy array (shape: n_frames x n_mfcc)\n",
    "    mfcc_frames = np.array(sample[\"mfcc\"])\n",
    "    all_mfcc_frames.append(mfcc_frames)\n",
    "\n",
    "# Concatenate all frames along the time axis.\n",
    "# This yields an array of shape (total_n_frames, n_mfcc)\n",
    "all_mfcc = np.vstack(all_mfcc_frames)\n",
    "print(\"Total MFCC frames:\", all_mfcc.shape[0])\n",
    "print(\"MFCC feature dimension:\", all_mfcc.shape[1])\n",
    "\n",
    "# Convert the NumPy array to a PyTorch tensor.\n",
    "mfcc_tensor = torch.tensor(all_mfcc, dtype=torch.float32)\n"
   ]
  },
  {
   "cell_type": "code",
   "execution_count": null,
   "metadata": {},
   "outputs": [],
   "source": [
    "torch.save(mfcc_tensor, './data/mfcc_tensors/mn5_mfcc_tensor.pt')"
   ]
  },
  {
   "cell_type": "markdown",
   "metadata": {},
   "source": [
    "### train "
   ]
  },
  {
   "cell_type": "code",
   "execution_count": null,
   "metadata": {},
   "outputs": [],
   "source": [
    "#load mfcc tensor\n",
    "mfcc_tensor = torch.load('./data/mfcc_tensors/halfhour_mfcc_tensor.pt')\n",
    "print(\"Total MFCC frames:\", mfcc_tensor.shape[0])"
   ]
  },
  {
   "cell_type": "code",
   "execution_count": null,
   "metadata": {},
   "outputs": [],
   "source": [
    "# Create the GMM model with batch training parameters.\n",
    "\n",
    "\n",
    "nb_clusters = 16  \n",
    "gmm = bayes.GaussianMixture(\n",
    "    num_components=nb_clusters,\n",
    "    batch_size=1024,  # Process the data in batches of 1024 samples\n",
    "    trainer_params={\n",
    "        \"max_epochs\": 40,       \n",
    "        \"accelerator\": \"cpu\",   # Force CPU training (MPS on macbook is not supported)\n",
    "    }\n",
    ")"
   ]
  },
  {
   "cell_type": "code",
   "execution_count": null,
   "metadata": {},
   "outputs": [],
   "source": [
    "#fit model\n",
    "gmm = gmm.fit(mfcc_tensor)"
   ]
  },
  {
   "cell_type": "code",
   "execution_count": null,
   "metadata": {},
   "outputs": [],
   "source": [
    "#save model\n",
    "\n",
    "save_path = \"./data/trained_models/halfhour_trained_gmm\"\n",
    "gmm.save(save_path)\n",
    "print(f\"GMM model saved to {save_path}\")\n"
   ]
  },
  {
   "cell_type": "code",
   "execution_count": null,
   "metadata": {},
   "outputs": [],
   "source": [
    "\n",
    "save_path = \"./data/trained_models/halfhour_trained_gmm\"\n",
    "\n",
    "# 8. Later, you can load the model back using:\n",
    "gmm = bayes.GaussianMixture.load(save_path)\n",
    "\n",
    "# 3. Compute the average negative log-likelihood (NLL) for the data.\n",
    "avg_nll = gmm.score(mfcc_tensor)\n",
    "print(f\"Average negative log-likelihood: {avg_nll:.2f}\")\n",
    "\n",
    "\n",
    "\n",
    "# 6. Inspect some of the fitted attributes:\n",
    "#    (Note: The names of attributes may depend on your version of torchgmm.)\n",
    "\n",
    "print(\"Convergence status:\", gmm.converged_)\n",
    "print(\"Number of EM iterations:\", gmm.num_iter_)\n",
    "print(\"Last recorded average NLL:\", gmm.nll_)"
   ]
  },
  {
   "cell_type": "code",
   "execution_count": null,
   "metadata": {},
   "outputs": [],
   "source": [
    "#qques test inutiles \n",
    "# 1. Predict the most likely component for each datapoint.\n",
    "predicted_labels = gmm.predict(mfcc_tensor)\n",
    "print(\"Predicted cluster assignments (first 10 datapoints):\")\n",
    "print(predicted_labels[:10])\n",
    "\n",
    "# 2. Get the probability distribution (responsibilities) over components.\n",
    "responsibilities = gmm.predict_proba(mfcc_tensor)\n",
    "print(\"Responsibilities for the first 5 datapoints:\")\n",
    "print(responsibilities[:5])\n",
    "\n",
    "\n"
   ]
  },
  {
   "cell_type": "code",
   "execution_count": null,
   "metadata": {},
   "outputs": [],
   "source": [
    "\n",
    "\n",
    "\n",
    "def process_stimulus(audio_file_path, sample_rate=16000):\n",
    "    # Load the audio using librosa (or another method)\n",
    "    audio_array, sr = librosa.load(audio_file_path, sr=sample_rate)\n",
    "    mfcc_features = compute_mfcc(audio_array, sr)\n",
    "    return mfcc_features  # NumPy array of shape (n_frames, n_mfcc)\n",
    "\n",
    "# List your stimulus file paths (16 audio files)\n",
    "\n",
    "# List your stimulus file paths (16 audio files)\n",
    "stimulus_files = natsort.natsorted(os.listdir(r'./data/stimuli'))\n",
    "stimulus_files = [os.path.join(r'./data/stimuli', file) for file in stimulus_files]\n",
    "\n",
    "print(stimulus_files)\n",
    "\"\"\"stimulus_files = os.listdir(\"./data/stimuli\")\n",
    "stimulus_files = [os.path.join(\"./data/stimuli\", file) for file in stimulus_files]\"\"\"\n",
    "\n",
    "print(stimulus_files)  \n",
    "\n",
    "\n",
    "\n",
    "\n",
    "# Process each stimulus\n",
    "stimulus_mfccs = []\n",
    "for file_path in stimulus_files:\n",
    "    print(f\"Processing stimulus: {file_path}\")\n",
    "    mfcc = process_stimulus(file_path)\n",
    "    stimulus_mfccs.append(mfcc)\n",
    "\n",
    "# --- Step 2: Get cluster responsibilities for each stimulus ---\n",
    "# Suppose gmm is your trained GaussianMixture model.\n",
    "# We will compute the average responsibilities per stimulus.\n",
    "\n",
    "stimulus_cluster_posteriors = []  # list of shape (num_components,) per stimulus\n",
    "stimulus_labels = [\"r\", #S\n",
    "                   \"r\", #S\n",
    "                   \"l\", #S\n",
    "                   \"l\", #S\n",
    "                   \"r\", #S\n",
    "                   \"r\", #S\n",
    "                   \"l\", #S\n",
    "                   \"l\", #S\n",
    "                   \"r\", #S\n",
    "                   \"r\", #S\n",
    "                   \"l\", #S\n",
    "                   \"l\", #S\n",
    "                   \"r\", #S\n",
    "                   \"r\", #S\n",
    "                   \"l\", #S\n",
    "                    \"l\"] #S\n",
    "\n",
    "\n",
    "for mfcc in stimulus_mfccs:\n",
    "    # Convert to torch tensor (float32)\n",
    "    mfcc_tensor = torch.tensor(mfcc, dtype=torch.float32)\n",
    "    # Get responsibilities (posterior probabilities) for each frame.\n",
    "    responsibilities = gmm.predict_proba(mfcc_tensor)\n",
    "    # Average the responsibilities over all frames.\n",
    "    print(\"resp\",responsibilities.shape)\n",
    "    avg_resp = responsibilities.mean(dim=0)\n",
    "    print(\"avg\",avg_resp.shape)\n",
    "    stimulus_cluster_posteriors.append(avg_resp.detach().cpu().numpy())\n",
    "\n",
    "# Now, stimulus_cluster_posteriors is a list of 16 vectors (each of length num_components).\n",
    "\n"
   ]
  },
  {
   "cell_type": "code",
   "execution_count": null,
   "metadata": {},
   "outputs": [],
   "source": [
    "# Example inputs:\n",
    "# stimulus_cluster_posteriors: list of 16 numpy arrays, each of shape (num_clusters,)\n",
    "# For instance, if you have 32 clusters then each array is of shape (32,).\n",
    "# These come from averaging the responsibilities (posterior probabilities) over the MFCC frames of each stimulus.\n",
    "\n",
    "\n",
    "# stimulus_labels: a list of 16 labels corresponding to your 16 stimuli.\n",
    "# Here we assume that the stimuli are labeled \"r\" for /r/ sounds and \"l\" for /l/ sounds.\n",
    "\n",
    "\n",
    "# Convert the list of posterior vectors into a 2D array for easier manipulation.\n",
    "posteriors = np.stack(stimulus_cluster_posteriors, axis=0)  # shape: (num_stimuli, num_clusters)\n",
    "num_stimuli, num_clusters = posteriors.shape\n",
    "\n",
    "# Separate indices for /r/ and /l/ stimuli.\n",
    "r_indices = [i for i, lab in enumerate(stimulus_labels) if lab.lower() == \"r\"]\n",
    "l_indices = [i for i, lab in enumerate(stimulus_labels) if lab.lower() == \"l\"]\n",
    "\n",
    "# Compute average posterior probability for each cluster for each group.\n",
    "avg_r = posteriors[r_indices, :].mean(axis=0)\n",
    "avg_l = posteriors[l_indices, :].mean(axis=0)\n",
    "\n",
    "# Plot the average probabilities for each cluster side by side.\n",
    "x = np.arange(num_clusters)\n",
    "width = 0.35\n",
    "\n",
    "fig, ax = plt.subplots(figsize=(10, 5))\n",
    "ax.bar(x - width/2, avg_r, width, label=\"/r/ stimuli\")\n",
    "ax.bar(x + width/2, avg_l, width, label=\"/l/ stimuli\")\n",
    "ax.set_xlabel(\"Cluster Index\")\n",
    "ax.set_ylabel(\"Average Posterior Probability\")\n",
    "ax.set_title(\"Average GMM Cluster Probabilities for /r/ vs. /l/ Stimuli\")\n",
    "ax.set_xticks(x)\n",
    "ax.legend()\n",
    "plt.show()\n"
   ]
  },
  {
   "cell_type": "code",
   "execution_count": null,
   "metadata": {},
   "outputs": [],
   "source": [
    "responsibilities = gmm.predict_proba(mfcc_tensor)  # shape: [N, K]\n",
    "effective_counts = responsibilities.sum(axis=0)\n",
    "print(\"Effective counts per cluster:\", effective_counts)"
   ]
  },
  {
   "cell_type": "code",
   "execution_count": null,
   "metadata": {},
   "outputs": [],
   "source": [
    "path_to_models=\"./data/trained_models/test_seed\"\n",
    "\n",
    "models=os.listdir(path_to_models)\n",
    "models=[model for model in models if \"seed\" in model]\n",
    "print(models)\n",
    "for model in models:\n",
    "    print(model)\n",
    "    model_path=os.path.join(path_to_models,model)\n",
    "    gmm = bayes.GaussianMixture.load(model_path)\n",
    "    stimulus_embeddings = []\n",
    "    for mfcc in stimulus_mfccs:  # Utilisez vos MFCC pré-calculés\n",
    "        with torch.no_grad():\n",
    "            mfcc_tensor = torch.tensor(mfcc, dtype=torch.float32)\n",
    "            responsibilities = gmm.predict_proba(mfcc_tensor)\n",
    "            avg_embedding = responsibilities.mean(dim=0).numpy()\n",
    "            stimulus_embeddings.append(avg_embedding)\n",
    "\n",
    "    # --- 3. Calcul de la matrice de distance ---\n",
    "    distance_matrix = squareform(pdist(stimulus_embeddings, metric='cosine'))\n",
    "\n",
    "    # --- 4. Réduction de dimension avec MDS ---\n",
    "    mds = MDS(n_components=2, dissimilarity='precomputed', random_state=42)\n",
    "    mds_coords = mds.fit_transform(distance_matrix)\n",
    "\n",
    "    # --- 5. Visualisation ---\n",
    "    plt.figure(figsize=(10, 8))\n",
    "    colors = ['red' if label == 'r' else 'blue' for label in stimulus_labels]\n",
    "\n",
    "    # Plot chaque stimulus avec son numéro\n",
    "    for i, (x, y) in enumerate(mds_coords):\n",
    "        plt.scatter(x, y, c=colors[i], s=200, edgecolor='w', linewidth=1)\n",
    "        plt.text(x+0.008, y+0.008, str(i+1), fontsize=10, ha='center', va='center')\n",
    "\n",
    "    # Légende\n",
    "    plt.scatter([], [], c='red', label='R')\n",
    "    plt.scatter([], [], c='blue', label='L')\n",
    "    plt.legend(title=\"Stimulus\")\n",
    "\n",
    "    plt.title(f\"Projection MDS des embeddings des stimuli {model}\")\n",
    "    plt.xlabel(\"Dimension 1 (F2-like)\")\n",
    "    plt.ylabel(\"Dimension 2 (F3-like)\")\n",
    "    plt.grid(alpha=0.3)\n",
    "    plt.xlim( (-0.2, 0.2) ) \n",
    "    plt.ylim( (-0.2, 0.2) ) \n",
    "    plt.show()\n",
    "\n",
    "    # --- 6. Sauvegarde des résultats ---\n",
    "    np.save(\"mds_coords.npy\", mds_coords)\n",
    "    np.save(\"distance_matrix.npy\", distance_matrix)\n"
   ]
  },
  {
   "cell_type": "code",
   "execution_count": 22,
   "metadata": {},
   "outputs": [
    {
     "name": "stderr",
     "output_type": "stream",
     "text": [
      "GPU available: True (mps), used: False\n",
      "TPU available: False, using: 0 TPU cores\n",
      "HPU available: False, using: 0 HPUs\n",
      "/Users/julienf/.pyenv/versions/3.11.11/envs/ml/lib/python3.11/site-packages/pytorch_lightning/trainer/setup.py:177: GPU available but not used. You can set it by doing `Trainer(accelerator='gpu')`.\n"
     ]
    },
    {
     "name": "stdout",
     "output_type": "stream",
     "text": [
      "Predicting DataLoader 0: 100%|██████████| 1/1 [00:00<00:00, 448.83it/s]"
     ]
    },
    {
     "name": "stderr",
     "output_type": "stream",
     "text": [
      "GPU available: True (mps), used: False\n",
      "TPU available: False, using: 0 TPU cores\n",
      "HPU available: False, using: 0 HPUs\n"
     ]
    },
    {
     "name": "stdout",
     "output_type": "stream",
     "text": [
      "\n",
      "Predicting DataLoader 0: 100%|██████████| 1/1 [00:00<00:00, 560.21it/s]"
     ]
    },
    {
     "name": "stderr",
     "output_type": "stream",
     "text": [
      "GPU available: True (mps), used: False\n",
      "TPU available: False, using: 0 TPU cores\n",
      "HPU available: False, using: 0 HPUs\n"
     ]
    },
    {
     "name": "stdout",
     "output_type": "stream",
     "text": [
      "\n",
      "Predicting DataLoader 0: 100%|██████████| 1/1 [00:00<00:00, 639.38it/s]"
     ]
    },
    {
     "name": "stderr",
     "output_type": "stream",
     "text": [
      "GPU available: True (mps), used: False\n",
      "TPU available: False, using: 0 TPU cores\n",
      "HPU available: False, using: 0 HPUs\n"
     ]
    },
    {
     "name": "stdout",
     "output_type": "stream",
     "text": [
      "\n",
      "Predicting DataLoader 0: 100%|██████████| 1/1 [00:00<00:00, 459.35it/s]"
     ]
    },
    {
     "name": "stderr",
     "output_type": "stream",
     "text": [
      "GPU available: True (mps), used: False\n",
      "TPU available: False, using: 0 TPU cores\n",
      "HPU available: False, using: 0 HPUs\n"
     ]
    },
    {
     "name": "stdout",
     "output_type": "stream",
     "text": [
      "\n",
      "Predicting DataLoader 0: 100%|██████████| 1/1 [00:00<00:00, 56.13it/s]"
     ]
    },
    {
     "name": "stderr",
     "output_type": "stream",
     "text": [
      "GPU available: True (mps), used: False\n",
      "TPU available: False, using: 0 TPU cores\n",
      "HPU available: False, using: 0 HPUs\n"
     ]
    },
    {
     "name": "stdout",
     "output_type": "stream",
     "text": [
      "\n",
      "Predicting DataLoader 0: 100%|██████████| 1/1 [00:00<00:00, 509.14it/s]"
     ]
    },
    {
     "name": "stderr",
     "output_type": "stream",
     "text": [
      "GPU available: True (mps), used: False\n",
      "TPU available: False, using: 0 TPU cores\n",
      "HPU available: False, using: 0 HPUs\n"
     ]
    },
    {
     "name": "stdout",
     "output_type": "stream",
     "text": [
      "\n",
      "Predicting DataLoader 0: 100%|██████████| 1/1 [00:00<00:00, 492.35it/s]"
     ]
    },
    {
     "name": "stderr",
     "output_type": "stream",
     "text": [
      "GPU available: True (mps), used: False\n",
      "TPU available: False, using: 0 TPU cores\n",
      "HPU available: False, using: 0 HPUs\n"
     ]
    },
    {
     "name": "stdout",
     "output_type": "stream",
     "text": [
      "\n",
      "Predicting DataLoader 0: 100%|██████████| 1/1 [00:00<00:00, 644.68it/s]"
     ]
    },
    {
     "name": "stderr",
     "output_type": "stream",
     "text": [
      "GPU available: True (mps), used: False\n",
      "TPU available: False, using: 0 TPU cores\n",
      "HPU available: False, using: 0 HPUs\n"
     ]
    },
    {
     "name": "stdout",
     "output_type": "stream",
     "text": [
      "\n",
      "Predicting DataLoader 0: 100%|██████████| 1/1 [00:00<00:00, 586.21it/s]"
     ]
    },
    {
     "name": "stderr",
     "output_type": "stream",
     "text": [
      "GPU available: True (mps), used: False\n",
      "TPU available: False, using: 0 TPU cores\n",
      "HPU available: False, using: 0 HPUs\n"
     ]
    },
    {
     "name": "stdout",
     "output_type": "stream",
     "text": [
      "\n",
      "Predicting DataLoader 0: 100%|██████████| 1/1 [00:00<00:00, 559.61it/s]"
     ]
    },
    {
     "name": "stderr",
     "output_type": "stream",
     "text": [
      "GPU available: True (mps), used: False\n",
      "TPU available: False, using: 0 TPU cores\n",
      "HPU available: False, using: 0 HPUs\n"
     ]
    },
    {
     "name": "stdout",
     "output_type": "stream",
     "text": [
      "\n",
      "Predicting DataLoader 0: 100%|██████████| 1/1 [00:00<00:00, 572.05it/s]"
     ]
    },
    {
     "name": "stderr",
     "output_type": "stream",
     "text": [
      "GPU available: True (mps), used: False\n",
      "TPU available: False, using: 0 TPU cores\n",
      "HPU available: False, using: 0 HPUs\n"
     ]
    },
    {
     "name": "stdout",
     "output_type": "stream",
     "text": [
      "\n",
      "Predicting DataLoader 0: 100%|██████████| 1/1 [00:00<00:00, 198.96it/s]"
     ]
    },
    {
     "name": "stderr",
     "output_type": "stream",
     "text": [
      "GPU available: True (mps), used: False\n",
      "TPU available: False, using: 0 TPU cores\n",
      "HPU available: False, using: 0 HPUs\n"
     ]
    },
    {
     "name": "stdout",
     "output_type": "stream",
     "text": [
      "\n",
      "Predicting DataLoader 0: 100%|██████████| 1/1 [00:00<00:00, 643.89it/s]"
     ]
    },
    {
     "name": "stderr",
     "output_type": "stream",
     "text": [
      "GPU available: True (mps), used: False\n",
      "TPU available: False, using: 0 TPU cores\n",
      "HPU available: False, using: 0 HPUs\n"
     ]
    },
    {
     "name": "stdout",
     "output_type": "stream",
     "text": [
      "\n",
      "Predicting DataLoader 0: 100%|██████████| 1/1 [00:00<00:00, 650.18it/s]\n"
     ]
    },
    {
     "name": "stderr",
     "output_type": "stream",
     "text": [
      "GPU available: True (mps), used: False\n",
      "TPU available: False, using: 0 TPU cores\n",
      "HPU available: False, using: 0 HPUs\n"
     ]
    },
    {
     "name": "stdout",
     "output_type": "stream",
     "text": [
      "Predicting DataLoader 0: 100%|██████████| 1/1 [00:00<00:00, 531.66it/s]\n"
     ]
    },
    {
     "name": "stderr",
     "output_type": "stream",
     "text": [
      "GPU available: True (mps), used: False\n",
      "TPU available: False, using: 0 TPU cores\n",
      "HPU available: False, using: 0 HPUs\n"
     ]
    },
    {
     "name": "stdout",
     "output_type": "stream",
     "text": [
      "Predicting DataLoader 0: 100%|██████████| 1/1 [00:00<00:00, 635.02it/s]\n"
     ]
    },
    {
     "data": {
      "image/png": "[encoded data removed]",
      "text/plain": [
       "<Figure size 1000x800 with 1 Axes>"
      ]
     },
     "metadata": {},
     "output_type": "display_data"
    }
   ],
   "source": [
    "\n",
    "\n",
    "# --- 1. Charger le modèle entraîné ---\n",
    "model_path = \"./data/trained_models/halfhour_trained_gmm\"  # <-- À modifier\n",
    "gmm = bayes.GaussianMixture.load(model_path)\n",
    "\n",
    "\n",
    "# --- 2. Calcul des embeddings des stimuli ---\n",
    "stimulus_embeddings = []\n",
    "for mfcc in stimulus_mfccs:  # Utilisez vos MFCC pré-calculés\n",
    "    with torch.no_grad():\n",
    "        mfcc_tensor = torch.tensor(mfcc, dtype=torch.float32)\n",
    "        responsibilities = gmm.predict_proba(mfcc_tensor)\n",
    "        avg_embedding = responsibilities.mean(dim=0).numpy()\n",
    "        stimulus_embeddings.append(avg_embedding)\n",
    "\n",
    "# --- 3. Calcul de la matrice de distance ---\n",
    "distance_matrix = squareform(pdist(stimulus_embeddings, metric='cosine'))\n",
    "\n",
    "# --- 4. Réduction de dimension avec MDS ---\n",
    "mds = MDS(n_components=2, dissimilarity='precomputed', random_state=42)\n",
    "mds_coords = mds.fit_transform(distance_matrix)\n",
    "\n",
    "# --- 5. Visualisation ---\n",
    "plt.figure(figsize=(10, 8))\n",
    "colors = ['red' if label == 'r' else 'blue' for label in stimulus_labels]\n",
    "\n",
    "# Plot chaque stimulus avec son numéro\n",
    "for i, (x, y) in enumerate(mds_coords):\n",
    "    plt.scatter(x, y, c=colors[i], s=200, edgecolor='w', linewidth=1)\n",
    "    plt.text(x+0.02, y+0.02, str(i+1), fontsize=10, ha='center', va='center')\n",
    "\n",
    "# Légende\n",
    "plt.scatter([], [], c='red', label='R')\n",
    "plt.scatter([], [], c='blue', label='L')\n",
    "plt.legend(title=\"Stimulus\")\n",
    "\n",
    "plt.title(\"Projection MDS des embeddings des stimuli\")\n",
    "plt.xlabel(\"Dimension 1 (F2-like)\")\n",
    "plt.ylabel(\"Dimension 2 (F3-like)\")\n",
    "plt.grid(alpha=0.3)\n",
    "plt.show()\n",
    "\n",
    "# --- 6. Sauvegarde des résultats ---\n",
    "np.save(\"mds_coords.npy\", mds_coords)\n",
    "np.save(\"distance_matrix.npy\", distance_matrix)"
   ]
  },
  {
   "cell_type": "code",
   "execution_count": 23,
   "metadata": {},
   "outputs": [
    {
     "name": "stdout",
     "output_type": "stream",
     "text": [
      "Corrélation Dim1-F2 : r=-0.24, p=0.372\n",
      "Corrélation Dim2-F3 : r=0.17, p=0.526\n"
     ]
    }
   ],
   "source": [
    "# Si vous avez les formants réels des stimuli\n",
    "from scipy.stats import pearsonr\n",
    "\n",
    "# Corrélation Dimension 1 ↔ F2 moyen\n",
    "f2 = [800,\n",
    "800,\n",
    "800,\n",
    "800,\n",
    "1000,\n",
    "1000,\n",
    "1000,\n",
    "1000,\n",
    "1200,\n",
    "1200,\n",
    "1200,\n",
    "1200,\n",
    "1400,\n",
    "1400,\n",
    "1400,\n",
    "1400] # Valeurs F2 pour chaque stimulus\n",
    "r, p = pearsonr(mds_coords[:,0], f2)\n",
    "print(f\"Corrélation Dim1-F2 : r={r:.2f}, p={p:.3f}\")\n",
    "\n",
    "# Corrélation Dimension 2 ↔ F3 moyen\n",
    "f3 = [1600,\n",
    "2000,\n",
    "2400,\n",
    "2800,\n",
    "1600,\n",
    "2000,\n",
    "2400,\n",
    "2800,\n",
    "1600,\n",
    "2000,\n",
    "2400,\n",
    "2800,\n",
    "1600,\n",
    "2000,\n",
    "2400,\n",
    "2800] # Valeurs F3 pour chaque stimulus\n",
    "r, p = pearsonr(mds_coords[:,1], f3)\n",
    "print(f\"Corrélation Dim2-F3 : r={r:.2f}, p={p:.3f}\")"
   ]
  },
  {
   "cell_type": "code",
   "execution_count": 24,
   "metadata": {},
   "outputs": [],
   "source": [
    "# Fonction utilitaire de détection d'intersection\n",
    "def lines_intersect(line1, line2):\n",
    "    \"\"\"Détecte si deux lignes (série de points) se croisent\"\"\"\n",
    "    from itertools import combinations\n",
    "    for (p1, p2), (p3, p4) in combinations(zip(line1, line1[1:]), 2):\n",
    "        if segment_intersect(p1, p2, p3, p4):\n",
    "            return True\n",
    "    return False\n",
    "\n",
    "def segment_intersect(a, b, c, d):\n",
    "    \"\"\"Détecte l'intersection entre deux segments [a,b] et [c,d]\"\"\"\n",
    "    def ccw(A, B, C):\n",
    "        return (B[0]-A[0])*(C[1]-A[1]) > (B[1]-A[1])*(C[0]-A[0])\n",
    "    \n",
    "    return ccw(a,c,d) != ccw(b,c,d) and ccw(a,b,c) != ccw(a,b,d)"
   ]
  },
  {
   "cell_type": "code",
   "execution_count": 33,
   "metadata": {},
   "outputs": [
    {
     "name": "stderr",
     "output_type": "stream",
     "text": [
      "GPU available: True (mps), used: False\n",
      "TPU available: False, using: 0 TPU cores\n",
      "HPU available: False, using: 0 HPUs\n",
      "/Users/julienf/.pyenv/versions/3.11.11/envs/ml/lib/python3.11/site-packages/pytorch_lightning/trainer/setup.py:177: GPU available but not used. You can set it by doing `Trainer(accelerator='gpu')`.\n"
     ]
    },
    {
     "name": "stdout",
     "output_type": "stream",
     "text": [
      "Predicting DataLoader 0: 100%|██████████| 1/1 [00:00<00:00, 498.49it/s]"
     ]
    },
    {
     "name": "stderr",
     "output_type": "stream",
     "text": [
      "GPU available: True (mps), used: False\n",
      "TPU available: False, using: 0 TPU cores\n",
      "HPU available: False, using: 0 HPUs\n"
     ]
    },
    {
     "name": "stdout",
     "output_type": "stream",
     "text": [
      "\n",
      "Predicting DataLoader 0: 100%|██████████| 1/1 [00:00<00:00, 378.92it/s]"
     ]
    },
    {
     "name": "stderr",
     "output_type": "stream",
     "text": [
      "GPU available: True (mps), used: False\n",
      "TPU available: False, using: 0 TPU cores\n",
      "HPU available: False, using: 0 HPUs\n"
     ]
    },
    {
     "name": "stdout",
     "output_type": "stream",
     "text": [
      "\n",
      "Predicting DataLoader 0: 100%|██████████| 1/1 [00:00<00:00, 526.86it/s]"
     ]
    },
    {
     "name": "stderr",
     "output_type": "stream",
     "text": [
      "GPU available: True (mps), used: False\n",
      "TPU available: False, using: 0 TPU cores\n",
      "HPU available: False, using: 0 HPUs\n"
     ]
    },
    {
     "name": "stdout",
     "output_type": "stream",
     "text": [
      "\n",
      "Predicting DataLoader 0: 100%|██████████| 1/1 [00:00<00:00, 434.24it/s]"
     ]
    },
    {
     "name": "stderr",
     "output_type": "stream",
     "text": [
      "GPU available: True (mps), used: False\n",
      "TPU available: False, using: 0 TPU cores\n",
      "HPU available: False, using: 0 HPUs\n"
     ]
    },
    {
     "name": "stdout",
     "output_type": "stream",
     "text": [
      "\n",
      "Predicting DataLoader 0: 100%|██████████| 1/1 [00:00<00:00, 484.27it/s]"
     ]
    },
    {
     "name": "stderr",
     "output_type": "stream",
     "text": [
      "GPU available: True (mps), used: False\n",
      "TPU available: False, using: 0 TPU cores\n",
      "HPU available: False, using: 0 HPUs\n"
     ]
    },
    {
     "name": "stdout",
     "output_type": "stream",
     "text": [
      "\n",
      "Predicting DataLoader 0: 100%|██████████| 1/1 [00:00<00:00, 331.88it/s]"
     ]
    },
    {
     "name": "stderr",
     "output_type": "stream",
     "text": [
      "GPU available: True (mps), used: False\n",
      "TPU available: False, using: 0 TPU cores\n",
      "HPU available: False, using: 0 HPUs\n"
     ]
    },
    {
     "name": "stdout",
     "output_type": "stream",
     "text": [
      "\n",
      "Predicting DataLoader 0: 100%|██████████| 1/1 [00:00<00:00, 522.46it/s]"
     ]
    },
    {
     "name": "stderr",
     "output_type": "stream",
     "text": [
      "GPU available: True (mps), used: False\n",
      "TPU available: False, using: 0 TPU cores\n",
      "HPU available: False, using: 0 HPUs\n"
     ]
    },
    {
     "name": "stdout",
     "output_type": "stream",
     "text": [
      "\n",
      "Predicting DataLoader 0: 100%|██████████| 1/1 [00:00<00:00, 500.51it/s]"
     ]
    },
    {
     "name": "stderr",
     "output_type": "stream",
     "text": [
      "GPU available: True (mps), used: False\n",
      "TPU available: False, using: 0 TPU cores\n",
      "HPU available: False, using: 0 HPUs\n"
     ]
    },
    {
     "name": "stdout",
     "output_type": "stream",
     "text": [
      "\n",
      "Predicting DataLoader 0: 100%|██████████| 1/1 [00:00<00:00, 130.55it/s]"
     ]
    },
    {
     "name": "stderr",
     "output_type": "stream",
     "text": [
      "GPU available: True (mps), used: False\n",
      "TPU available: False, using: 0 TPU cores\n",
      "HPU available: False, using: 0 HPUs\n"
     ]
    },
    {
     "name": "stdout",
     "output_type": "stream",
     "text": [
      "\n",
      "Predicting DataLoader 0: 100%|██████████| 1/1 [00:00<00:00, 391.04it/s]"
     ]
    },
    {
     "name": "stderr",
     "output_type": "stream",
     "text": [
      "GPU available: True (mps), used: False\n",
      "TPU available: False, using: 0 TPU cores\n",
      "HPU available: False, using: 0 HPUs\n"
     ]
    },
    {
     "name": "stdout",
     "output_type": "stream",
     "text": [
      "\n",
      "Predicting DataLoader 0: 100%|██████████| 1/1 [00:00<00:00, 563.75it/s]"
     ]
    },
    {
     "name": "stderr",
     "output_type": "stream",
     "text": [
      "GPU available: True (mps), used: False\n",
      "TPU available: False, using: 0 TPU cores\n",
      "HPU available: False, using: 0 HPUs\n"
     ]
    },
    {
     "name": "stdout",
     "output_type": "stream",
     "text": [
      "\n",
      "Predicting DataLoader 0: 100%|██████████| 1/1 [00:00<00:00, 461.01it/s]"
     ]
    },
    {
     "name": "stderr",
     "output_type": "stream",
     "text": [
      "GPU available: True (mps), used: False\n",
      "TPU available: False, using: 0 TPU cores\n",
      "HPU available: False, using: 0 HPUs\n"
     ]
    },
    {
     "name": "stdout",
     "output_type": "stream",
     "text": [
      "\n",
      "Predicting DataLoader 0: 100%|██████████| 1/1 [00:00<00:00, 496.25it/s]"
     ]
    },
    {
     "name": "stderr",
     "output_type": "stream",
     "text": [
      "GPU available: True (mps), used: False\n",
      "TPU available: False, using: 0 TPU cores\n",
      "HPU available: False, using: 0 HPUs\n"
     ]
    },
    {
     "name": "stdout",
     "output_type": "stream",
     "text": [
      "\n",
      "Predicting DataLoader 0: 100%|██████████| 1/1 [00:00<00:00, 555.54it/s]"
     ]
    },
    {
     "name": "stderr",
     "output_type": "stream",
     "text": [
      "GPU available: True (mps), used: False\n",
      "TPU available: False, using: 0 TPU cores\n",
      "HPU available: False, using: 0 HPUs\n"
     ]
    },
    {
     "name": "stdout",
     "output_type": "stream",
     "text": [
      "\n",
      "Predicting DataLoader 0: 100%|██████████| 1/1 [00:00<00:00, 426.81it/s]\n"
     ]
    },
    {
     "name": "stderr",
     "output_type": "stream",
     "text": [
      "GPU available: True (mps), used: False\n",
      "TPU available: False, using: 0 TPU cores\n",
      "HPU available: False, using: 0 HPUs\n"
     ]
    },
    {
     "name": "stdout",
     "output_type": "stream",
     "text": [
      "Predicting DataLoader 0: 100%|██████████| 1/1 [00:00<00:00, 562.09it/s]\n"
     ]
    },
    {
     "data": {
      "image/png": "[encoded data removed]",
      "text/plain": [
       "<Figure size 1200x1000 with 1 Axes>"
      ]
     },
     "metadata": {},
     "output_type": "display_data"
    }
   ],
   "source": [
    "\n",
    "\n",
    "# --- 1. Charger le modèle entraîné ---\n",
    "model_path = \"./data/trained_models/10h_trained_gmm\"  # <-- À modifier\n",
    "gmm = bayes.GaussianMixture.load(model_path)\n",
    "\n",
    "\n",
    "# --- 2. Calcul des embeddings des stimuli ---\n",
    "stimulus_embeddings = []\n",
    "for mfcc in stimulus_mfccs:  # Utilisez vos MFCC pré-calculés\n",
    "    with torch.no_grad():\n",
    "        mfcc_tensor = torch.tensor(mfcc, dtype=torch.float32)\n",
    "        responsibilities = gmm.predict_proba(mfcc_tensor)\n",
    "        avg_embedding = responsibilities.mean(dim=0).numpy()\n",
    "        stimulus_embeddings.append(avg_embedding)\n",
    "\n",
    "# --- 3. Calcul de la matrice de distance ---\n",
    "distance_matrix = squareform(pdist(stimulus_embeddings, metric='cosine'))\n",
    "\n",
    "# --- 4. Réduction de dimension avec MDS ---\n",
    "mds = MDS(n_components=2, dissimilarity='precomputed', random_state=42)\n",
    "mds_coords = mds.fit_transform(distance_matrix)\n",
    "\n",
    "\n",
    "\n",
    "\n",
    "# --- 5. Visualisation AVEC GRILLE THÉORIQUE ---\n",
    "plt.figure(figsize=(12, 10))\n",
    "colors = ['red' if label == 'r' else 'blue' for label in stimulus_labels]\n",
    "\n",
    "# Définir la grille théorique basée sur F2/F3\n",
    "f2_groups = {800: [], 1000: [], 1200: [], 1400: []}\n",
    "f3_groups = {1600: [], 2000: [], 2400: [], 2800: []}\n",
    "\n",
    "for i, (x, y) in enumerate(mds_coords):\n",
    "    # Stocker les coordonnées par groupe F2/F3\n",
    "    f2_groups[f2[i]].append((x, y))\n",
    "    f3_groups[f3[i]].append((x, y))\n",
    "    \n",
    "    # Plot des points\n",
    "    plt.scatter(x, y, c=colors[i], s=200, edgecolor='w', linewidth=1)\n",
    "    plt.text(x+0.0008, y+0.0008, str(i+1), fontsize=10, ha='center', va='center')\n",
    "\n",
    "# Tracer les lignes théoriques\n",
    "for f2_val, coords in f2_groups.items():\n",
    "    if len(coords) == 4:  # Lignes F3 (même F2)\n",
    "        x_vals = [c[0] for c in coords]\n",
    "        y_vals = [c[1] for c in coords]\n",
    "        plt.plot(x_vals, y_vals, '--', color='green', alpha=0.3, label=f'F2={f2_val}')\n",
    "\n",
    "for f3_val, coords in f3_groups.items():\n",
    "    if len(coords) == 4:  # Lignes F2 (même F3)\n",
    "        x_vals = [c[0] for c in coords]\n",
    "        y_vals = [c[1] for c in coords]\n",
    "        plt.plot(x_vals, y_vals, ':', color='black', alpha=0.3, label=f'F3={f3_val}')\n",
    "\n",
    "# Analyse des croisements\n",
    "crossing_count = 0\n",
    "all_lines = list(f2_groups.values()) + list(f3_groups.values())\n",
    "\n",
    "for i in range(len(all_lines)):\n",
    "    for j in range(i+1, len(all_lines)):\n",
    "        if lines_intersect(all_lines[i], all_lines[j]):\n",
    "            crossing_count += 1\n",
    "\n",
    "# Légende et annotations\n",
    "plt.scatter([], [], c='red', label='R')\n",
    "plt.scatter([], [], c='blue', label='L')\n",
    "plt.legend(title=f\"Grille théorique\\nCroisements: {crossing_count}\", loc='upper right')\n",
    "\n",
    "plt.title(f\"Projection MDS vs Grille F2/F3 - {model}\")\n",
    "plt.xlabel(\"Dimension MDS 1\")\n",
    "plt.ylabel(\"Dimension MDS 2\")\n",
    "plt.grid(alpha=0.1)\n",
    "\n",
    "plt.show()\n",
    "\n"
   ]
  },
  {
   "cell_type": "code",
   "execution_count": null,
   "metadata": {},
   "outputs": [],
   "source": [
    "#a implementer : plusieurs seeds, plusieurs durées, comparaison des durées\n",
    "\n",
    "import numpy as np\n",
    "from sklearn.manifold import MDS\n",
    "from scipy.spatial.distance import cdist\n",
    "import matplotlib.pyplot as plt\n",
    "import seaborn as sns\n",
    "\n",
    "# Configuration globale\n",
    "N_COMPONENTS = 128  \n",
    "N_MDS_DIMENSIONS = 2\n",
    "TRAINING_DURATIONS = ['1h', '10h', '100h']\n",
    "N_SEEDS = 1\n",
    "\n",
    "# Fonction pour charger les modèles entraînés\n",
    "def load_models(duration, n_seeds):\n",
    "    models = []\n",
    "    for seed in range(n_seeds):\n",
    "        model_path = f\"./models/gmm_{duration}_seed{seed}.pt\"\n",
    "        models.append(torch.load(model_path))\n",
    "    return models\n",
    "\n",
    "# Calcul des embeddings moyens sur plusieurs runs\n",
    "def compute_average_embeddings(models, stimulus_mfccs):\n",
    "    all_embeddings = []\n",
    "    for model in models:\n",
    "        embeddings = []\n",
    "        for mfcc in stimulus_mfccs:\n",
    "            mfcc_tensor = torch.tensor(mfcc, dtype=torch.float32)\n",
    "            responsibilities = model.predict_proba(mfcc_tensor)\n",
    "            avg_resp = responsibilities.mean(dim=0).detach().cpu().numpy()\n",
    "            embeddings.append(avg_resp)\n",
    "        all_embeddings.append(np.array(embeddings))\n",
    "    return np.mean(all_embeddings, axis=0)\n",
    "\n",
    "# Analyse MDS pour une durée d'entraînement\n",
    "def analyze_duration(duration, stimulus_mfccs, stimulus_labels):\n",
    "    # Charger les modèles\n",
    "    models = load_models(duration, N_SEEDS)\n",
    "    \n",
    "    # Calculer les embeddings moyens\n",
    "    avg_embeddings = compute_average_embeddings(models, stimulus_mfccs)\n",
    "    \n",
    "    # Calcul de la matrice de distance moyenne\n",
    "    distance_matrix = cdist(avg_embeddings, avg_embeddings, metric='cosine')\n",
    "    \n",
    "    # Réduction de dimension avec MDS\n",
    "    mds = MDS(n_components=N_MDS_DIMENSIONS, dissimilarity='precomputed', random_state=42)\n",
    "    mds_coords = mds.fit_transform(distance_matrix)\n",
    "    \n",
    "    # Visualisation\n",
    "    plt.figure(figsize=(10, 8))\n",
    "    colors = ['red' if label == 'R' else 'blue' for label in stimulus_labels]\n",
    "    \n",
    "    for i, (x, y) in enumerate(mds_coords):\n",
    "        plt.scatter(x, y, c=colors[i], s=100)\n",
    "        plt.text(x+0.02, y+0.02, str(i+1), fontsize=9)\n",
    "    \n",
    "    plt.title(f\"MDS - {duration} d'entraînement\")\n",
    "    plt.xlabel(\"Dimension 1 (F2-like)\")\n",
    "    plt.ylabel(\"Dimension 2 (F3-like)\")\n",
    "    \n",
    "    # Sauvegarde des coordonnées\n",
    "    np.save(f\"mds_{duration}.npy\", mds_coords)\n",
    "    plt.savefig(f\"mds_{duration}.png\")\n",
    "    plt.close()\n",
    "\n",
    "# Analyse comparative sur toutes les durées\n",
    "def full_analysis(stimulus_mfccs, stimulus_labels):\n",
    "    fig, axes = plt.subplots(1, len(TRAINING_DURATIONS), figsize=(20, 6))\n",
    "    \n",
    "    for idx, duration in enumerate(TRAINING_DURATIONS):\n",
    "        models = load_models(duration, N_SEEDS)\n",
    "        avg_embeddings = compute_average_embeddings(models, stimulus_mfccs)\n",
    "        distance_matrix = cdist(avg_embeddings, avg_embeddings, metric='cosine')\n",
    "        mds = MDS(n_components=N_MDS_DIMENSIONS, dissimilarity='precomputed', random_state=42)\n",
    "        mds_coords = mds.fit_transform(distance_matrix)\n",
    "        \n",
    "        colors = ['red' if label == 'R' else 'blue' for label in stimulus_labels]\n",
    "        axes[idx].scatter(mds_coords[:,0], mds_coords[:,1], c=colors, s=100)\n",
    "        axes[idx].set_title(duration)\n",
    "        axes[idx].set_xlabel(\"Dimension 1\")\n",
    "        axes[idx].set_ylabel(\"Dimension 2\")\n",
    "    \n",
    "    plt.tight_layout()\n",
    "    plt.savefig(\"mds_comparison.png\")\n",
    "    plt.close()\n",
    "\n",
    "# Exécution principale\n",
    "if __name__ == \"__main__\":\n",
    "    # Charger les MFCC des stimuli (déjà calculés)\n",
    "    stimulus_mfccs = [...]  # Remplacer par vos données\n",
    "    \n",
    "    # Vérifier les labels\n",
    "    stimulus_labels = [...]  # Liste de 16 labels R/L\n",
    "    \n",
    "    # Analyse par durée\n",
    "    for duration in TRAINING_DURATIONS:\n",
    "        analyze_duration(duration, stimulus_mfccs, stimulus_labels)\n",
    "    \n",
    "    # Analyse comparative\n",
    "    full_analysis(stimulus_mfccs, stimulus_labels)\n",
    "\n",
    "    # Analyse statistique des dimensions\n",
    "    for duration in TRAINING_DURATIONS:\n",
    "        coords = np.load(f\"mds_{duration}.npy\")\n",
    "        print(f\"\\nAnalyse pour {duration}:\")\n",
    "        print(f\"Variance expliquée - Dim1: {np.var(coords[:,0]):.2f}, Dim2: {np.var(coords[:,1]):.2f}\")\n",
    "        print(f\"Ratio F2/F3: {np.var(coords[:,0])/np.var(coords[:,1]):.2f}\")"
   ]
  },
  {
   "cell_type": "code",
   "execution_count": null,
   "metadata": {},
   "outputs": [],
   "source": []
  },
  {
   "cell_type": "code",
   "execution_count": null,
   "metadata": {},
   "outputs": [],
   "source": []
  }
 ],
 "metadata": {
  "kernelspec": {
   "display_name": "ml",
   "language": "python",
   "name": "python3"
  },
  "language_info": {
   "codemirror_mode": {
    "name": "ipython",
    "version": 3
   },
   "file_extension": ".py",
   "mimetype": "text/x-python",
   "name": "python",
   "nbconvert_exporter": "python",
   "pygments_lexer": "ipython3",
   "version": "3.11.11"
  }
 },
 "nbformat": 4,
 "nbformat_minor": 2
}
